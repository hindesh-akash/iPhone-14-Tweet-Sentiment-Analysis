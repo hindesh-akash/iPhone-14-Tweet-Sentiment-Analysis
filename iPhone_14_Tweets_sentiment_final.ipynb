{
  "cells": [
    {
      "cell_type": "markdown",
      "metadata": {
        "id": "view-in-github",
        "colab_type": "text"
      },
      "source": [
        "<a href=\"https://colab.research.google.com/github/hindesh-akash/iPhone-14-Tweet-Sentiment-Analysis/blob/main/iPhone_14_Tweets_sentiment_final.ipynb\" target=\"_parent\"><img src=\"https://colab.research.google.com/assets/colab-badge.svg\" alt=\"Open In Colab\"/></a>"
      ]
    },
    {
      "cell_type": "markdown",
      "source": [
        "# iPhone-14 Tweets Sentiment Analysis"
      ],
      "metadata": {
        "id": "HvnfAqy_0wpa"
      }
    },
    {
      "cell_type": "markdown",
      "source": [
        "## About iPhone-14:\n",
        "    iPhone-14 is the latest mobile phone launched by Apple on September 7, 2022.\n",
        "    Packed with features and aggressive pricing, the iPhone-14 was trending all over the internet \n",
        "    with millions expressing their opinions.\n",
        "\n",
        "### About Sentiment Analysis:\n",
        "    Sentiment analysis (or opinion mining) is a natural language processing (NLP) technique used to determine whether\n",
        "    data is positive, negative or neutral.\n"
      ],
      "metadata": {
        "id": "mpMkl2McydZo"
      }
    },
    {
      "cell_type": "markdown",
      "source": [
        "About this project:\n",
        "\n",
        "This Sentiment Analysis project aims to predict the opinions of over 140 thousand Twitter users on the recent launch of iPhone-14.\n",
        "\n",
        "\n",
        "Data source: https://www.kaggle.com/datasets/tleonel/iphone14-tweets"
      ],
      "metadata": {
        "id": "Sdd2QjLg0dKN"
      }
    },
    {
      "cell_type": "markdown",
      "metadata": {
        "id": "f9ocnYI0Gbyr"
      },
      "source": [
        "### Data Downloading"
      ]
    },
    {
      "cell_type": "code",
      "execution_count": 225,
      "metadata": {
        "id": "akmQE74k1o-I"
      },
      "outputs": [],
      "source": [
        "!pip install -q kaggle"
      ]
    },
    {
      "cell_type": "code",
      "execution_count": 226,
      "metadata": {
        "colab": {
          "base_uri": "https://localhost:8080/"
        },
        "id": "pka0pVlwGfYQ",
        "outputId": "a92f871b-131e-4ec1-e78a-e7d0c6855402"
      },
      "outputs": [
        {
          "output_type": "stream",
          "name": "stdout",
          "text": [
            "mkdir: cannot create directory ‘/root/.kaggle’: File exists\n"
          ]
        }
      ],
      "source": [
        "!mkdir ~/.kaggle"
      ]
    },
    {
      "cell_type": "code",
      "execution_count": 227,
      "metadata": {
        "id": "0UXfGuzsGklH"
      },
      "outputs": [],
      "source": [
        "!cp /content/drive/MyDrive/kaggle.json ~/.kaggle/kaggle.json"
      ]
    },
    {
      "cell_type": "code",
      "execution_count": 228,
      "metadata": {
        "colab": {
          "base_uri": "https://localhost:8080/"
        },
        "id": "spK4uGBdGkhs",
        "outputId": "c32e6c3e-f663-4c91-c542-d97e971d7896"
      },
      "outputs": [
        {
          "output_type": "stream",
          "name": "stdout",
          "text": [
            "iphone14-tweets.zip: Skipping, found more recently modified local copy (use --force to force download)\n"
          ]
        }
      ],
      "source": [
        "!kaggle datasets download -d tleonel/iphone14-tweets"
      ]
    },
    {
      "cell_type": "code",
      "execution_count": 229,
      "metadata": {
        "colab": {
          "base_uri": "https://localhost:8080/"
        },
        "id": "9WniB5pipdnE",
        "outputId": "19d1e6d5-8cc5-460e-c3c5-b5110520bc55"
      },
      "outputs": [
        {
          "output_type": "stream",
          "name": "stdout",
          "text": [
            "Archive:  iphone14-tweets.zip\n",
            "  inflating: iphone14-query-tweets.csv  \n"
          ]
        }
      ],
      "source": [
        "!unzip iphone14-tweets.zip "
      ]
    },
    {
      "cell_type": "markdown",
      "metadata": {
        "id": "A8frJAiIGxxE"
      },
      "source": [
        "We will be using NLTK's VADER for sentiment analyis.\n",
        "\n",
        "We could have used TextBlob also but VADER is more Social Media centric."
      ]
    },
    {
      "cell_type": "code",
      "execution_count": 230,
      "metadata": {
        "id": "LdKi-n1pGkcv"
      },
      "outputs": [],
      "source": [
        "import pandas as pd\n",
        "import numpy as np\n",
        "import nltk\n",
        "from nltk.sentiment.vader import SentimentIntensityAnalyzer"
      ]
    },
    {
      "cell_type": "code",
      "execution_count": 231,
      "metadata": {
        "id": "_sMbxioLGkac"
      },
      "outputs": [],
      "source": [
        "df = pd.read_csv('iphone14-query-tweets.csv')"
      ]
    },
    {
      "cell_type": "code",
      "execution_count": 231,
      "metadata": {
        "id": "K24PX1-bGkYK"
      },
      "outputs": [],
      "source": []
    },
    {
      "cell_type": "markdown",
      "metadata": {
        "id": "hCm3V52vHH9g"
      },
      "source": [
        "### Data Preprocessing and Cleaning"
      ]
    },
    {
      "cell_type": "markdown",
      "metadata": {
        "id": "6EQUm8X8TkWJ"
      },
      "source": [
        "Initial Dataset:"
      ]
    },
    {
      "cell_type": "code",
      "execution_count": 232,
      "metadata": {
        "colab": {
          "base_uri": "https://localhost:8080/",
          "height": 939
        },
        "id": "yRp5kKVXGkVz",
        "outputId": "47c4bd46-9a4b-4b83-8273-16a67822f5b4"
      },
      "outputs": [
        {
          "output_type": "execute_result",
          "data": {
            "text/plain": [
              "                        date_time         username  \\\n",
              "0       2022-09-08 22:49:29+00:00  TheAppleGang101   \n",
              "1       2022-09-08 22:49:27+00:00     TheJessicats   \n",
              "2       2022-09-08 22:49:16+00:00   itschefnotjeff   \n",
              "3       2022-09-08 22:49:09+00:00        HalfRonin   \n",
              "4       2022-09-08 22:49:09+00:00     Deejayrayman   \n",
              "...                           ...              ...   \n",
              "144240  2022-07-11 16:07:29+00:00      mohame4517_   \n",
              "144241  2022-07-11 16:06:06+00:00   EricFitteDuval   \n",
              "144242  2022-07-11 16:05:35+00:00           l_wzbr   \n",
              "144243  2022-07-11 16:03:22+00:00        pekolands   \n",
              "144244  2022-07-11 16:02:51+00:00        unstorenp   \n",
              "\n",
              "                         user_location  \\\n",
              "0                                  NaN   \n",
              "1                                 1999   \n",
              "2                    📌 mom's basement    \n",
              "3       Between the darkness and light   \n",
              "4                                Texas   \n",
              "...                                ...   \n",
              "144240                الدوحة, دولة قطر   \n",
              "144241                           Paris   \n",
              "144242                             NaN   \n",
              "144243                         she/her   \n",
              "144244                             NaN   \n",
              "\n",
              "                                         user_description  verified  \\\n",
              "0       A new account dedicated to all of the latest l...     False   \n",
              "1       Tweet like nobody’s reading • standup comedian...     False   \n",
              "2                                                👨🏽‍💻💳🎫✈️     False   \n",
              "3       Preferring to be the dumbest person in the roo...     False   \n",
              "4       Father of 3. Follower of Christ. Lover of all ...     False   \n",
              "...                                                   ...       ...   \n",
              "144240  ابتسم فلا محبتهم تبني لك قصراً ولا كرههم يحفر ...     False   \n",
              "144241                    fr.linkedin.com/in/ericfittedu…     False   \n",
              "144242   @WestConn economics with acquired taste for math     False   \n",
              "144243                    🌸☄️┆ (hololive+arknights+anime)     False   \n",
              "144244         Unstore.com.np : The One-stop Destination.     False   \n",
              "\n",
              "        followers_count  following_count  tweet_like_count  \\\n",
              "0                    10               28                 0   \n",
              "1                  1642             1444                 0   \n",
              "2                    77               87                 0   \n",
              "3                   549              717                 0   \n",
              "4                    48              153                 0   \n",
              "...                 ...              ...               ...   \n",
              "144240                6               57                 0   \n",
              "144241              894              196                 0   \n",
              "144242               18              197                 0   \n",
              "144243              433               89                 0   \n",
              "144244               44               19                 0   \n",
              "\n",
              "        tweet_retweet_count  tweet_reply_count  \\\n",
              "0                         0                  0   \n",
              "1                         0                  0   \n",
              "2                         0                  0   \n",
              "3                         0                  0   \n",
              "4                         0                  0   \n",
              "...                     ...                ...   \n",
              "144240                    0                  0   \n",
              "144241                    1                  0   \n",
              "144242                    0                  0   \n",
              "144243                    0                  0   \n",
              "144244                    0                  0   \n",
              "\n",
              "                                                   source  \\\n",
              "0       <a href=\"http://twitter.com/#!/download/ipad\" ...   \n",
              "1       <a href=\"http://twitter.com/download/iphone\" r...   \n",
              "2       <a href=\"http://twitter.com/download/android\" ...   \n",
              "3       <a href=\"http://twitter.com/download/iphone\" r...   \n",
              "4       <a href=\"http://twitter.com/download/iphone\" r...   \n",
              "...                                                   ...   \n",
              "144240  <a href=\"https://ifttt.com\" rel=\"nofollow\">IFT...   \n",
              "144241  <a href=\"https://dlvrit.com/\" rel=\"nofollow\">d...   \n",
              "144242  <a href=\"http://twitter.com/download/android\" ...   \n",
              "144243  <a href=\"http://twitter.com/download/iphone\" r...   \n",
              "144244  <a href=\"https://mobile.twitter.com\" rel=\"nofo...   \n",
              "\n",
              "                                               tweet_text  \n",
              "0       iPhone SE 3 gets more expensive in the UK afte...  \n",
              "1       @Travon I hope it happens before my iPhone 14 ...  \n",
              "2       Nah iphone 14 upgrade just not it, change my m...  \n",
              "3       To the shock of absolutely no one: \\n\\nApple: ...  \n",
              "4       @TMobile @TMobileHelp will you be able to orde...  \n",
              "...                                                   ...  \n",
              "144240  iPhone 14 ENTIRE Lineup Early Look - https://t...  \n",
              "144241  iPhone 14 strength will battle weak consumer s...  \n",
              "144242  @robertrosenfeld My Pixel 4's battery, never t...  \n",
              "144243  i don’t understand people who buy every new ip...  \n",
              "144244  iPhone 14 Series Could Cost $100 Higher Than i...  \n",
              "\n",
              "[144245 rows x 12 columns]"
            ],
            "text/html": [
              "\n",
              "  <div id=\"df-eb27a588-7efd-4acd-9a89-126e97acec58\">\n",
              "    <div class=\"colab-df-container\">\n",
              "      <div>\n",
              "<style scoped>\n",
              "    .dataframe tbody tr th:only-of-type {\n",
              "        vertical-align: middle;\n",
              "    }\n",
              "\n",
              "    .dataframe tbody tr th {\n",
              "        vertical-align: top;\n",
              "    }\n",
              "\n",
              "    .dataframe thead th {\n",
              "        text-align: right;\n",
              "    }\n",
              "</style>\n",
              "<table border=\"1\" class=\"dataframe\">\n",
              "  <thead>\n",
              "    <tr style=\"text-align: right;\">\n",
              "      <th></th>\n",
              "      <th>date_time</th>\n",
              "      <th>username</th>\n",
              "      <th>user_location</th>\n",
              "      <th>user_description</th>\n",
              "      <th>verified</th>\n",
              "      <th>followers_count</th>\n",
              "      <th>following_count</th>\n",
              "      <th>tweet_like_count</th>\n",
              "      <th>tweet_retweet_count</th>\n",
              "      <th>tweet_reply_count</th>\n",
              "      <th>source</th>\n",
              "      <th>tweet_text</th>\n",
              "    </tr>\n",
              "  </thead>\n",
              "  <tbody>\n",
              "    <tr>\n",
              "      <th>0</th>\n",
              "      <td>2022-09-08 22:49:29+00:00</td>\n",
              "      <td>TheAppleGang101</td>\n",
              "      <td>NaN</td>\n",
              "      <td>A new account dedicated to all of the latest l...</td>\n",
              "      <td>False</td>\n",
              "      <td>10</td>\n",
              "      <td>28</td>\n",
              "      <td>0</td>\n",
              "      <td>0</td>\n",
              "      <td>0</td>\n",
              "      <td>&lt;a href=\"http://twitter.com/#!/download/ipad\" ...</td>\n",
              "      <td>iPhone SE 3 gets more expensive in the UK afte...</td>\n",
              "    </tr>\n",
              "    <tr>\n",
              "      <th>1</th>\n",
              "      <td>2022-09-08 22:49:27+00:00</td>\n",
              "      <td>TheJessicats</td>\n",
              "      <td>1999</td>\n",
              "      <td>Tweet like nobody’s reading • standup comedian...</td>\n",
              "      <td>False</td>\n",
              "      <td>1642</td>\n",
              "      <td>1444</td>\n",
              "      <td>0</td>\n",
              "      <td>0</td>\n",
              "      <td>0</td>\n",
              "      <td>&lt;a href=\"http://twitter.com/download/iphone\" r...</td>\n",
              "      <td>@Travon I hope it happens before my iPhone 14 ...</td>\n",
              "    </tr>\n",
              "    <tr>\n",
              "      <th>2</th>\n",
              "      <td>2022-09-08 22:49:16+00:00</td>\n",
              "      <td>itschefnotjeff</td>\n",
              "      <td>📌 mom's basement</td>\n",
              "      <td>👨🏽‍💻💳🎫✈️</td>\n",
              "      <td>False</td>\n",
              "      <td>77</td>\n",
              "      <td>87</td>\n",
              "      <td>0</td>\n",
              "      <td>0</td>\n",
              "      <td>0</td>\n",
              "      <td>&lt;a href=\"http://twitter.com/download/android\" ...</td>\n",
              "      <td>Nah iphone 14 upgrade just not it, change my m...</td>\n",
              "    </tr>\n",
              "    <tr>\n",
              "      <th>3</th>\n",
              "      <td>2022-09-08 22:49:09+00:00</td>\n",
              "      <td>HalfRonin</td>\n",
              "      <td>Between the darkness and light</td>\n",
              "      <td>Preferring to be the dumbest person in the roo...</td>\n",
              "      <td>False</td>\n",
              "      <td>549</td>\n",
              "      <td>717</td>\n",
              "      <td>0</td>\n",
              "      <td>0</td>\n",
              "      <td>0</td>\n",
              "      <td>&lt;a href=\"http://twitter.com/download/iphone\" r...</td>\n",
              "      <td>To the shock of absolutely no one: \\n\\nApple: ...</td>\n",
              "    </tr>\n",
              "    <tr>\n",
              "      <th>4</th>\n",
              "      <td>2022-09-08 22:49:09+00:00</td>\n",
              "      <td>Deejayrayman</td>\n",
              "      <td>Texas</td>\n",
              "      <td>Father of 3. Follower of Christ. Lover of all ...</td>\n",
              "      <td>False</td>\n",
              "      <td>48</td>\n",
              "      <td>153</td>\n",
              "      <td>0</td>\n",
              "      <td>0</td>\n",
              "      <td>0</td>\n",
              "      <td>&lt;a href=\"http://twitter.com/download/iphone\" r...</td>\n",
              "      <td>@TMobile @TMobileHelp will you be able to orde...</td>\n",
              "    </tr>\n",
              "    <tr>\n",
              "      <th>...</th>\n",
              "      <td>...</td>\n",
              "      <td>...</td>\n",
              "      <td>...</td>\n",
              "      <td>...</td>\n",
              "      <td>...</td>\n",
              "      <td>...</td>\n",
              "      <td>...</td>\n",
              "      <td>...</td>\n",
              "      <td>...</td>\n",
              "      <td>...</td>\n",
              "      <td>...</td>\n",
              "      <td>...</td>\n",
              "    </tr>\n",
              "    <tr>\n",
              "      <th>144240</th>\n",
              "      <td>2022-07-11 16:07:29+00:00</td>\n",
              "      <td>mohame4517_</td>\n",
              "      <td>الدوحة, دولة قطر</td>\n",
              "      <td>ابتسم فلا محبتهم تبني لك قصراً ولا كرههم يحفر ...</td>\n",
              "      <td>False</td>\n",
              "      <td>6</td>\n",
              "      <td>57</td>\n",
              "      <td>0</td>\n",
              "      <td>0</td>\n",
              "      <td>0</td>\n",
              "      <td>&lt;a href=\"https://ifttt.com\" rel=\"nofollow\"&gt;IFT...</td>\n",
              "      <td>iPhone 14 ENTIRE Lineup Early Look - https://t...</td>\n",
              "    </tr>\n",
              "    <tr>\n",
              "      <th>144241</th>\n",
              "      <td>2022-07-11 16:06:06+00:00</td>\n",
              "      <td>EricFitteDuval</td>\n",
              "      <td>Paris</td>\n",
              "      <td>fr.linkedin.com/in/ericfittedu…</td>\n",
              "      <td>False</td>\n",
              "      <td>894</td>\n",
              "      <td>196</td>\n",
              "      <td>0</td>\n",
              "      <td>1</td>\n",
              "      <td>0</td>\n",
              "      <td>&lt;a href=\"https://dlvrit.com/\" rel=\"nofollow\"&gt;d...</td>\n",
              "      <td>iPhone 14 strength will battle weak consumer s...</td>\n",
              "    </tr>\n",
              "    <tr>\n",
              "      <th>144242</th>\n",
              "      <td>2022-07-11 16:05:35+00:00</td>\n",
              "      <td>l_wzbr</td>\n",
              "      <td>NaN</td>\n",
              "      <td>@WestConn economics with acquired taste for math</td>\n",
              "      <td>False</td>\n",
              "      <td>18</td>\n",
              "      <td>197</td>\n",
              "      <td>0</td>\n",
              "      <td>0</td>\n",
              "      <td>0</td>\n",
              "      <td>&lt;a href=\"http://twitter.com/download/android\" ...</td>\n",
              "      <td>@robertrosenfeld My Pixel 4's battery, never t...</td>\n",
              "    </tr>\n",
              "    <tr>\n",
              "      <th>144243</th>\n",
              "      <td>2022-07-11 16:03:22+00:00</td>\n",
              "      <td>pekolands</td>\n",
              "      <td>she/her</td>\n",
              "      <td>🌸☄️┆ (hololive+arknights+anime)</td>\n",
              "      <td>False</td>\n",
              "      <td>433</td>\n",
              "      <td>89</td>\n",
              "      <td>0</td>\n",
              "      <td>0</td>\n",
              "      <td>0</td>\n",
              "      <td>&lt;a href=\"http://twitter.com/download/iphone\" r...</td>\n",
              "      <td>i don’t understand people who buy every new ip...</td>\n",
              "    </tr>\n",
              "    <tr>\n",
              "      <th>144244</th>\n",
              "      <td>2022-07-11 16:02:51+00:00</td>\n",
              "      <td>unstorenp</td>\n",
              "      <td>NaN</td>\n",
              "      <td>Unstore.com.np : The One-stop Destination.</td>\n",
              "      <td>False</td>\n",
              "      <td>44</td>\n",
              "      <td>19</td>\n",
              "      <td>0</td>\n",
              "      <td>0</td>\n",
              "      <td>0</td>\n",
              "      <td>&lt;a href=\"https://mobile.twitter.com\" rel=\"nofo...</td>\n",
              "      <td>iPhone 14 Series Could Cost $100 Higher Than i...</td>\n",
              "    </tr>\n",
              "  </tbody>\n",
              "</table>\n",
              "<p>144245 rows × 12 columns</p>\n",
              "</div>\n",
              "      <button class=\"colab-df-convert\" onclick=\"convertToInteractive('df-eb27a588-7efd-4acd-9a89-126e97acec58')\"\n",
              "              title=\"Convert this dataframe to an interactive table.\"\n",
              "              style=\"display:none;\">\n",
              "        \n",
              "  <svg xmlns=\"http://www.w3.org/2000/svg\" height=\"24px\"viewBox=\"0 0 24 24\"\n",
              "       width=\"24px\">\n",
              "    <path d=\"M0 0h24v24H0V0z\" fill=\"none\"/>\n",
              "    <path d=\"M18.56 5.44l.94 2.06.94-2.06 2.06-.94-2.06-.94-.94-2.06-.94 2.06-2.06.94zm-11 1L8.5 8.5l.94-2.06 2.06-.94-2.06-.94L8.5 2.5l-.94 2.06-2.06.94zm10 10l.94 2.06.94-2.06 2.06-.94-2.06-.94-.94-2.06-.94 2.06-2.06.94z\"/><path d=\"M17.41 7.96l-1.37-1.37c-.4-.4-.92-.59-1.43-.59-.52 0-1.04.2-1.43.59L10.3 9.45l-7.72 7.72c-.78.78-.78 2.05 0 2.83L4 21.41c.39.39.9.59 1.41.59.51 0 1.02-.2 1.41-.59l7.78-7.78 2.81-2.81c.8-.78.8-2.07 0-2.86zM5.41 20L4 18.59l7.72-7.72 1.47 1.35L5.41 20z\"/>\n",
              "  </svg>\n",
              "      </button>\n",
              "      \n",
              "  <style>\n",
              "    .colab-df-container {\n",
              "      display:flex;\n",
              "      flex-wrap:wrap;\n",
              "      gap: 12px;\n",
              "    }\n",
              "\n",
              "    .colab-df-convert {\n",
              "      background-color: #E8F0FE;\n",
              "      border: none;\n",
              "      border-radius: 50%;\n",
              "      cursor: pointer;\n",
              "      display: none;\n",
              "      fill: #1967D2;\n",
              "      height: 32px;\n",
              "      padding: 0 0 0 0;\n",
              "      width: 32px;\n",
              "    }\n",
              "\n",
              "    .colab-df-convert:hover {\n",
              "      background-color: #E2EBFA;\n",
              "      box-shadow: 0px 1px 2px rgba(60, 64, 67, 0.3), 0px 1px 3px 1px rgba(60, 64, 67, 0.15);\n",
              "      fill: #174EA6;\n",
              "    }\n",
              "\n",
              "    [theme=dark] .colab-df-convert {\n",
              "      background-color: #3B4455;\n",
              "      fill: #D2E3FC;\n",
              "    }\n",
              "\n",
              "    [theme=dark] .colab-df-convert:hover {\n",
              "      background-color: #434B5C;\n",
              "      box-shadow: 0px 1px 3px 1px rgba(0, 0, 0, 0.15);\n",
              "      filter: drop-shadow(0px 1px 2px rgba(0, 0, 0, 0.3));\n",
              "      fill: #FFFFFF;\n",
              "    }\n",
              "  </style>\n",
              "\n",
              "      <script>\n",
              "        const buttonEl =\n",
              "          document.querySelector('#df-eb27a588-7efd-4acd-9a89-126e97acec58 button.colab-df-convert');\n",
              "        buttonEl.style.display =\n",
              "          google.colab.kernel.accessAllowed ? 'block' : 'none';\n",
              "\n",
              "        async function convertToInteractive(key) {\n",
              "          const element = document.querySelector('#df-eb27a588-7efd-4acd-9a89-126e97acec58');\n",
              "          const dataTable =\n",
              "            await google.colab.kernel.invokeFunction('convertToInteractive',\n",
              "                                                     [key], {});\n",
              "          if (!dataTable) return;\n",
              "\n",
              "          const docLinkHtml = 'Like what you see? Visit the ' +\n",
              "            '<a target=\"_blank\" href=https://colab.research.google.com/notebooks/data_table.ipynb>data table notebook</a>'\n",
              "            + ' to learn more about interactive tables.';\n",
              "          element.innerHTML = '';\n",
              "          dataTable['output_type'] = 'display_data';\n",
              "          await google.colab.output.renderOutput(dataTable, element);\n",
              "          const docLink = document.createElement('div');\n",
              "          docLink.innerHTML = docLinkHtml;\n",
              "          element.appendChild(docLink);\n",
              "        }\n",
              "      </script>\n",
              "    </div>\n",
              "  </div>\n",
              "  "
            ]
          },
          "metadata": {},
          "execution_count": 232
        }
      ],
      "source": [
        "df\n"
      ]
    },
    {
      "cell_type": "markdown",
      "metadata": {
        "id": "ZGChiWLJJXLC"
      },
      "source": [
        "    There are around 144000 rows and 12 columns.\n",
        "    Means we have 144k tweets for our analysis."
      ]
    },
    {
      "cell_type": "code",
      "execution_count": 233,
      "metadata": {
        "colab": {
          "base_uri": "https://localhost:8080/"
        },
        "id": "O5z82YA0GkTn",
        "outputId": "0bfe6543-47d8-47b5-a7f7-82a0df1b1cb8"
      },
      "outputs": [
        {
          "output_type": "stream",
          "name": "stdout",
          "text": [
            "<class 'pandas.core.frame.DataFrame'>\n",
            "RangeIndex: 144245 entries, 0 to 144244\n",
            "Data columns (total 12 columns):\n",
            " #   Column               Non-Null Count   Dtype \n",
            "---  ------               --------------   ----- \n",
            " 0   date_time            144245 non-null  object\n",
            " 1   username             144245 non-null  object\n",
            " 2   user_location        97925 non-null   object\n",
            " 3   user_description     127678 non-null  object\n",
            " 4   verified             144245 non-null  bool  \n",
            " 5   followers_count      144245 non-null  int64 \n",
            " 6   following_count      144245 non-null  int64 \n",
            " 7   tweet_like_count     144245 non-null  int64 \n",
            " 8   tweet_retweet_count  144245 non-null  int64 \n",
            " 9   tweet_reply_count    144245 non-null  int64 \n",
            " 10  source               144245 non-null  object\n",
            " 11  tweet_text           144245 non-null  object\n",
            "dtypes: bool(1), int64(5), object(6)\n",
            "memory usage: 12.2+ MB\n"
          ]
        }
      ],
      "source": [
        "df.info()"
      ]
    },
    {
      "cell_type": "markdown",
      "metadata": {
        "id": "SuhuPan1HhfY"
      },
      "source": [
        "    Only the columns user_location and user_description contain some null values. Let's check that out!"
      ]
    },
    {
      "cell_type": "code",
      "execution_count": 234,
      "metadata": {
        "colab": {
          "base_uri": "https://localhost:8080/"
        },
        "id": "amqQtzm3GkRN",
        "outputId": "a0e8739c-6ef4-4e66-a2d5-b1e4a0df01dd"
      },
      "outputs": [
        {
          "output_type": "execute_result",
          "data": {
            "text/plain": [
              "India               3020\n",
              "United States       2989\n",
              "Lagos, Nigeria      1594\n",
              "Nigeria             1282\n",
              "New York, NY        1042\n",
              "New Delhi, India     914\n",
              "USA                  755\n",
              "Los Angeles, CA      725\n",
              "London, England      687\n",
              "New York, USA        684\n",
              "Worldwide            662\n",
              "Everywhere           658\n",
              "Canada               573\n",
              "United Kingdom       531\n",
              "Москва, Россия       509\n",
              "New York             501\n",
              "London               473\n",
              "California, USA      459\n",
              "127.0.0.1            449\n",
              "Accra, Ghana         440\n",
              "Name: user_location, dtype: int64"
            ]
          },
          "metadata": {},
          "execution_count": 234
        }
      ],
      "source": [
        "df['user_location'].value_counts()[:20]"
      ]
    },
    {
      "cell_type": "markdown",
      "metadata": {
        "id": "2VRYykoTIM1m"
      },
      "source": [
        "    While scrolling through this information we can come \n",
        "    to a conclusion that many locations are just abstract\n",
        "    and do not exist. And we can't preprocess the unknown \n",
        "    location, although location would have been a great source of info.\n",
        "    Sadly, we will have to drop it!\n",
        "    And the same goes for 'user_name','user_description' columns."
      ]
    },
    {
      "cell_type": "code",
      "execution_count": 235,
      "metadata": {
        "id": "VNrusRs4GkOw"
      },
      "outputs": [],
      "source": [
        "df.drop(['username','user_location','user_description'],axis=1,inplace=True)"
      ]
    },
    {
      "cell_type": "code",
      "execution_count": 236,
      "metadata": {
        "colab": {
          "base_uri": "https://localhost:8080/",
          "height": 548
        },
        "id": "M8wrRfAHGkMr",
        "outputId": "7dc8512e-56d5-4b1c-9515-ada898f8f4a4"
      },
      "outputs": [
        {
          "output_type": "execute_result",
          "data": {
            "text/plain": [
              "                   date_time  verified  followers_count  following_count  \\\n",
              "0  2022-09-08 22:49:29+00:00     False               10               28   \n",
              "1  2022-09-08 22:49:27+00:00     False             1642             1444   \n",
              "2  2022-09-08 22:49:16+00:00     False               77               87   \n",
              "3  2022-09-08 22:49:09+00:00     False              549              717   \n",
              "4  2022-09-08 22:49:09+00:00     False               48              153   \n",
              "\n",
              "   tweet_like_count  tweet_retweet_count  tweet_reply_count  \\\n",
              "0                 0                    0                  0   \n",
              "1                 0                    0                  0   \n",
              "2                 0                    0                  0   \n",
              "3                 0                    0                  0   \n",
              "4                 0                    0                  0   \n",
              "\n",
              "                                              source  \\\n",
              "0  <a href=\"http://twitter.com/#!/download/ipad\" ...   \n",
              "1  <a href=\"http://twitter.com/download/iphone\" r...   \n",
              "2  <a href=\"http://twitter.com/download/android\" ...   \n",
              "3  <a href=\"http://twitter.com/download/iphone\" r...   \n",
              "4  <a href=\"http://twitter.com/download/iphone\" r...   \n",
              "\n",
              "                                          tweet_text  \n",
              "0  iPhone SE 3 gets more expensive in the UK afte...  \n",
              "1  @Travon I hope it happens before my iPhone 14 ...  \n",
              "2  Nah iphone 14 upgrade just not it, change my m...  \n",
              "3  To the shock of absolutely no one: \\n\\nApple: ...  \n",
              "4  @TMobile @TMobileHelp will you be able to orde...  "
            ],
            "text/html": [
              "\n",
              "  <div id=\"df-bd046944-ea90-4252-ac86-b5a6eecfbe3d\">\n",
              "    <div class=\"colab-df-container\">\n",
              "      <div>\n",
              "<style scoped>\n",
              "    .dataframe tbody tr th:only-of-type {\n",
              "        vertical-align: middle;\n",
              "    }\n",
              "\n",
              "    .dataframe tbody tr th {\n",
              "        vertical-align: top;\n",
              "    }\n",
              "\n",
              "    .dataframe thead th {\n",
              "        text-align: right;\n",
              "    }\n",
              "</style>\n",
              "<table border=\"1\" class=\"dataframe\">\n",
              "  <thead>\n",
              "    <tr style=\"text-align: right;\">\n",
              "      <th></th>\n",
              "      <th>date_time</th>\n",
              "      <th>verified</th>\n",
              "      <th>followers_count</th>\n",
              "      <th>following_count</th>\n",
              "      <th>tweet_like_count</th>\n",
              "      <th>tweet_retweet_count</th>\n",
              "      <th>tweet_reply_count</th>\n",
              "      <th>source</th>\n",
              "      <th>tweet_text</th>\n",
              "    </tr>\n",
              "  </thead>\n",
              "  <tbody>\n",
              "    <tr>\n",
              "      <th>0</th>\n",
              "      <td>2022-09-08 22:49:29+00:00</td>\n",
              "      <td>False</td>\n",
              "      <td>10</td>\n",
              "      <td>28</td>\n",
              "      <td>0</td>\n",
              "      <td>0</td>\n",
              "      <td>0</td>\n",
              "      <td>&lt;a href=\"http://twitter.com/#!/download/ipad\" ...</td>\n",
              "      <td>iPhone SE 3 gets more expensive in the UK afte...</td>\n",
              "    </tr>\n",
              "    <tr>\n",
              "      <th>1</th>\n",
              "      <td>2022-09-08 22:49:27+00:00</td>\n",
              "      <td>False</td>\n",
              "      <td>1642</td>\n",
              "      <td>1444</td>\n",
              "      <td>0</td>\n",
              "      <td>0</td>\n",
              "      <td>0</td>\n",
              "      <td>&lt;a href=\"http://twitter.com/download/iphone\" r...</td>\n",
              "      <td>@Travon I hope it happens before my iPhone 14 ...</td>\n",
              "    </tr>\n",
              "    <tr>\n",
              "      <th>2</th>\n",
              "      <td>2022-09-08 22:49:16+00:00</td>\n",
              "      <td>False</td>\n",
              "      <td>77</td>\n",
              "      <td>87</td>\n",
              "      <td>0</td>\n",
              "      <td>0</td>\n",
              "      <td>0</td>\n",
              "      <td>&lt;a href=\"http://twitter.com/download/android\" ...</td>\n",
              "      <td>Nah iphone 14 upgrade just not it, change my m...</td>\n",
              "    </tr>\n",
              "    <tr>\n",
              "      <th>3</th>\n",
              "      <td>2022-09-08 22:49:09+00:00</td>\n",
              "      <td>False</td>\n",
              "      <td>549</td>\n",
              "      <td>717</td>\n",
              "      <td>0</td>\n",
              "      <td>0</td>\n",
              "      <td>0</td>\n",
              "      <td>&lt;a href=\"http://twitter.com/download/iphone\" r...</td>\n",
              "      <td>To the shock of absolutely no one: \\n\\nApple: ...</td>\n",
              "    </tr>\n",
              "    <tr>\n",
              "      <th>4</th>\n",
              "      <td>2022-09-08 22:49:09+00:00</td>\n",
              "      <td>False</td>\n",
              "      <td>48</td>\n",
              "      <td>153</td>\n",
              "      <td>0</td>\n",
              "      <td>0</td>\n",
              "      <td>0</td>\n",
              "      <td>&lt;a href=\"http://twitter.com/download/iphone\" r...</td>\n",
              "      <td>@TMobile @TMobileHelp will you be able to orde...</td>\n",
              "    </tr>\n",
              "  </tbody>\n",
              "</table>\n",
              "</div>\n",
              "      <button class=\"colab-df-convert\" onclick=\"convertToInteractive('df-bd046944-ea90-4252-ac86-b5a6eecfbe3d')\"\n",
              "              title=\"Convert this dataframe to an interactive table.\"\n",
              "              style=\"display:none;\">\n",
              "        \n",
              "  <svg xmlns=\"http://www.w3.org/2000/svg\" height=\"24px\"viewBox=\"0 0 24 24\"\n",
              "       width=\"24px\">\n",
              "    <path d=\"M0 0h24v24H0V0z\" fill=\"none\"/>\n",
              "    <path d=\"M18.56 5.44l.94 2.06.94-2.06 2.06-.94-2.06-.94-.94-2.06-.94 2.06-2.06.94zm-11 1L8.5 8.5l.94-2.06 2.06-.94-2.06-.94L8.5 2.5l-.94 2.06-2.06.94zm10 10l.94 2.06.94-2.06 2.06-.94-2.06-.94-.94-2.06-.94 2.06-2.06.94z\"/><path d=\"M17.41 7.96l-1.37-1.37c-.4-.4-.92-.59-1.43-.59-.52 0-1.04.2-1.43.59L10.3 9.45l-7.72 7.72c-.78.78-.78 2.05 0 2.83L4 21.41c.39.39.9.59 1.41.59.51 0 1.02-.2 1.41-.59l7.78-7.78 2.81-2.81c.8-.78.8-2.07 0-2.86zM5.41 20L4 18.59l7.72-7.72 1.47 1.35L5.41 20z\"/>\n",
              "  </svg>\n",
              "      </button>\n",
              "      \n",
              "  <style>\n",
              "    .colab-df-container {\n",
              "      display:flex;\n",
              "      flex-wrap:wrap;\n",
              "      gap: 12px;\n",
              "    }\n",
              "\n",
              "    .colab-df-convert {\n",
              "      background-color: #E8F0FE;\n",
              "      border: none;\n",
              "      border-radius: 50%;\n",
              "      cursor: pointer;\n",
              "      display: none;\n",
              "      fill: #1967D2;\n",
              "      height: 32px;\n",
              "      padding: 0 0 0 0;\n",
              "      width: 32px;\n",
              "    }\n",
              "\n",
              "    .colab-df-convert:hover {\n",
              "      background-color: #E2EBFA;\n",
              "      box-shadow: 0px 1px 2px rgba(60, 64, 67, 0.3), 0px 1px 3px 1px rgba(60, 64, 67, 0.15);\n",
              "      fill: #174EA6;\n",
              "    }\n",
              "\n",
              "    [theme=dark] .colab-df-convert {\n",
              "      background-color: #3B4455;\n",
              "      fill: #D2E3FC;\n",
              "    }\n",
              "\n",
              "    [theme=dark] .colab-df-convert:hover {\n",
              "      background-color: #434B5C;\n",
              "      box-shadow: 0px 1px 3px 1px rgba(0, 0, 0, 0.15);\n",
              "      filter: drop-shadow(0px 1px 2px rgba(0, 0, 0, 0.3));\n",
              "      fill: #FFFFFF;\n",
              "    }\n",
              "  </style>\n",
              "\n",
              "      <script>\n",
              "        const buttonEl =\n",
              "          document.querySelector('#df-bd046944-ea90-4252-ac86-b5a6eecfbe3d button.colab-df-convert');\n",
              "        buttonEl.style.display =\n",
              "          google.colab.kernel.accessAllowed ? 'block' : 'none';\n",
              "\n",
              "        async function convertToInteractive(key) {\n",
              "          const element = document.querySelector('#df-bd046944-ea90-4252-ac86-b5a6eecfbe3d');\n",
              "          const dataTable =\n",
              "            await google.colab.kernel.invokeFunction('convertToInteractive',\n",
              "                                                     [key], {});\n",
              "          if (!dataTable) return;\n",
              "\n",
              "          const docLinkHtml = 'Like what you see? Visit the ' +\n",
              "            '<a target=\"_blank\" href=https://colab.research.google.com/notebooks/data_table.ipynb>data table notebook</a>'\n",
              "            + ' to learn more about interactive tables.';\n",
              "          element.innerHTML = '';\n",
              "          dataTable['output_type'] = 'display_data';\n",
              "          await google.colab.output.renderOutput(dataTable, element);\n",
              "          const docLink = document.createElement('div');\n",
              "          docLink.innerHTML = docLinkHtml;\n",
              "          element.appendChild(docLink);\n",
              "        }\n",
              "      </script>\n",
              "    </div>\n",
              "  </div>\n",
              "  "
            ]
          },
          "metadata": {},
          "execution_count": 236
        }
      ],
      "source": [
        "df.head()"
      ]
    },
    {
      "cell_type": "markdown",
      "metadata": {
        "id": "W2DocLmbJ4T5"
      },
      "source": [
        "    The next we will clean 'date_time' column"
      ]
    },
    {
      "cell_type": "code",
      "execution_count": 237,
      "metadata": {
        "id": "cHx7LJEdGkKm"
      },
      "outputs": [],
      "source": [
        "df['date'] = pd.to_datetime(df['date_time']).dt.date"
      ]
    },
    {
      "cell_type": "code",
      "execution_count": 238,
      "metadata": {
        "id": "S24t4dF9KQWF"
      },
      "outputs": [],
      "source": [
        "df['time'] = pd.to_datetime(df['date_time']).dt.time"
      ]
    },
    {
      "cell_type": "code",
      "execution_count": 239,
      "metadata": {
        "id": "G2iXQ9-mGkJJ"
      },
      "outputs": [],
      "source": [
        "df.drop(['date_time'],axis=1,inplace=True)"
      ]
    },
    {
      "cell_type": "markdown",
      "metadata": {
        "id": "yMQD6efpKdWK"
      },
      "source": [
        "    We will reindex the columns of our dataset for convinience"
      ]
    },
    {
      "cell_type": "code",
      "execution_count": 240,
      "metadata": {
        "id": "-LuApru9GkFn"
      },
      "outputs": [],
      "source": [
        "df = df.reindex(columns=['date', 'time','verified',  'source', 'tweet_text','followers_count', 'following_count', 'tweet_like_count',\n",
        "       'tweet_retweet_count', 'tweet_reply_count'])"
      ]
    },
    {
      "cell_type": "markdown",
      "metadata": {
        "id": "nKn3QfjBLwVY"
      },
      "source": [
        "    Let's look at the 'source' column."
      ]
    },
    {
      "cell_type": "code",
      "execution_count": 241,
      "metadata": {
        "colab": {
          "base_uri": "https://localhost:8080/"
        },
        "id": "G6ZY_pyYMCFc",
        "outputId": "3181c431-bcbf-4e94-8e76-76d7a26a63de"
      },
      "outputs": [
        {
          "output_type": "execute_result",
          "data": {
            "text/plain": [
              "0         <a href=\"http://twitter.com/#!/download/ipad\" ...\n",
              "1         <a href=\"http://twitter.com/download/iphone\" r...\n",
              "2         <a href=\"http://twitter.com/download/android\" ...\n",
              "3         <a href=\"http://twitter.com/download/iphone\" r...\n",
              "4         <a href=\"http://twitter.com/download/iphone\" r...\n",
              "                                ...                        \n",
              "144240    <a href=\"https://ifttt.com\" rel=\"nofollow\">IFT...\n",
              "144241    <a href=\"https://dlvrit.com/\" rel=\"nofollow\">d...\n",
              "144242    <a href=\"http://twitter.com/download/android\" ...\n",
              "144243    <a href=\"http://twitter.com/download/iphone\" r...\n",
              "144244    <a href=\"https://mobile.twitter.com\" rel=\"nofo...\n",
              "Name: source, Length: 144245, dtype: object"
            ]
          },
          "metadata": {},
          "execution_count": 241
        }
      ],
      "source": [
        "df['source']"
      ]
    },
    {
      "cell_type": "code",
      "execution_count": 242,
      "metadata": {
        "colab": {
          "base_uri": "https://localhost:8080/",
          "height": 36
        },
        "id": "WsKVaOqoL08W",
        "outputId": "b19b1006-cd45-4d67-8555-fb9166e73471"
      },
      "outputs": [
        {
          "output_type": "execute_result",
          "data": {
            "text/plain": [
              "'<a href=\"http://twitter.com/#!/download/ipad\" rel=\"nofollow\">Twitter for iPad</a>'"
            ],
            "application/vnd.google.colaboratory.intrinsic+json": {
              "type": "string"
            }
          },
          "metadata": {},
          "execution_count": 242
        }
      ],
      "source": [
        "#A particular value:\n",
        "df['source'][0]"
      ]
    },
    {
      "cell_type": "markdown",
      "metadata": {
        "id": "E4phrpc_LZQm"
      },
      "source": [
        "    The 'source' column describes about the device type used to make the tweet.\n",
        "    Since it is in form of a link we need to extract the device type from it."
      ]
    },
    {
      "cell_type": "code",
      "execution_count": 243,
      "metadata": {
        "id": "ljAPSVJIGkDt"
      },
      "outputs": [],
      "source": [
        "import re\n",
        "def getDeviceName(link): #A utility function to separate device part with link\n",
        "  \n",
        "  strings = re.split('<\\/',link)\n",
        "  device = strings[0].split('\">')[1]\n",
        "\n",
        "  return device"
      ]
    },
    {
      "cell_type": "code",
      "execution_count": 244,
      "metadata": {
        "id": "zGo85CwfGkA9"
      },
      "outputs": [],
      "source": [
        "df['source'] = df['source'].apply(lambda x: getDeviceName(x))"
      ]
    },
    {
      "cell_type": "code",
      "execution_count": 245,
      "metadata": {
        "colab": {
          "base_uri": "https://localhost:8080/"
        },
        "id": "WwCY4HY2Gj-b",
        "outputId": "b6a51fdc-f4fd-47dc-8d50-c3acf1848de0"
      },
      "outputs": [
        {
          "output_type": "execute_result",
          "data": {
            "text/plain": [
              "array(['Twitter for iPad', 'Twitter for iPhone', 'Twitter for Android',\n",
              "       'WordPress.com', 'Linky for iOS', 'Twitter Web App', 'dlvr.it',\n",
              "       'Revive Social App', 'Spring for Apple', '9to5Mac', 'IFTTT',\n",
              "       'ContentStudio.io', 'wpTechnorapper', 'Microsoft Power Platform',\n",
              "       'Hootsuite Inc.', 'Tumblr', 'Tweetbot for iΟS', 'Echofon',\n",
              "       'Newsnoon', 'Buffer', 'Blog2Social APP', 'Khoros CX', 'Glittall',\n",
              "       'techosmo', 'theguru.pro', 'TweetDeck', 'LinkedIn', 'cedarnews',\n",
              "       'SocialFlow', 'NewsroomSix', 'FromMienia', 'SocialPilot.co',\n",
              "       'Abo_Sadiq Tips_TechNews', 'Zapier.com', 'Aviary for Twitter',\n",
              "       'Tweetbot for Mac', 'Fook.News', '365newsx', 'Channel969',\n",
              "       'Twitter for Mac', 'FashionOnGO', 'Substack', 'SocialChamp IO ',\n",
              "       'Best.Photography Connect', 'ichitaso bot', 'Cherumbu News',\n",
              "       'Twitterrific for iOS', 'BestTLDApp', 'THEDOTBEST', 'BestTLD'],\n",
              "      dtype=object)"
            ]
          },
          "metadata": {},
          "execution_count": 245
        }
      ],
      "source": [
        "#Now the source column looks like:\n",
        "df['source'].unique()[:50]"
      ]
    },
    {
      "cell_type": "markdown",
      "metadata": {
        "id": "fIe0oaiMNhRr"
      },
      "source": [
        "    As you can see apart from iPhone, Android,Web App\n",
        "    most users either used chatbots to tweet their views\n",
        "    or used a different Social media to directly tweet to\n",
        "    Twitter.\n",
        "    For simplicity i have categorized all other third \n",
        "    party websites as 'chatbot' other than Twitter, Wordpress,Instagram,LinkedIN.\n"
      ]
    },
    {
      "cell_type": "code",
      "execution_count": 246,
      "metadata": {
        "id": "89ud-UAqGj78"
      },
      "outputs": [],
      "source": [
        "valid_list = ['Twitter for iPhone','Twitter for Android','WordPress.com','LinkedIn','Instagram','Twitter for Mac','Twitter Web App']"
      ]
    },
    {
      "cell_type": "code",
      "execution_count": 247,
      "metadata": {
        "id": "4oKWeOCKGj54"
      },
      "outputs": [],
      "source": [
        "def separateChatbot(device,valid_list):\n",
        "    if device not in valid_list:\n",
        "        return 'Chatbot'\n",
        "    else:\n",
        "      return device"
      ]
    },
    {
      "cell_type": "code",
      "execution_count": 248,
      "metadata": {
        "id": "JOnbQTdsGj3Z"
      },
      "outputs": [],
      "source": [
        "df['source'] = df['source'].apply(lambda x:separateChatbot(x,valid_list))"
      ]
    },
    {
      "cell_type": "code",
      "execution_count": 249,
      "metadata": {
        "colab": {
          "base_uri": "https://localhost:8080/"
        },
        "id": "AqombEvkGj05",
        "outputId": "1c91fc1a-08c3-4fbe-f923-9e45a140aa02"
      },
      "outputs": [
        {
          "output_type": "execute_result",
          "data": {
            "text/plain": [
              "Twitter for iPhone     49971\n",
              "Chatbot                29259\n",
              "Twitter for Android    23512\n",
              "WordPress.com          21871\n",
              "Twitter Web App        18507\n",
              "Twitter for Mac          929\n",
              "Instagram                124\n",
              "LinkedIn                  72\n",
              "Name: source, dtype: int64"
            ]
          },
          "metadata": {},
          "execution_count": 249
        }
      ],
      "source": [
        "df.source.value_counts() #Now the source column looks fairly clean"
      ]
    },
    {
      "cell_type": "markdown",
      "metadata": {
        "id": "a0EDF830S1Az"
      },
      "source": [
        "For Sentiment Analysis it is an important practice to remove the special characters and punctuation marks and keep only words."
      ]
    },
    {
      "cell_type": "markdown",
      "metadata": {
        "id": "1vjM_wPcTE3r"
      },
      "source": [
        "    Let's clean the 'tweet_text' column."
      ]
    },
    {
      "cell_type": "code",
      "execution_count": 250,
      "metadata": {
        "id": "17rg01YeGiZA"
      },
      "outputs": [],
      "source": [
        "df['tweet_text'] = df['tweet_text'].apply(lambda x:re.sub(r'http\\S+', '', x))\n",
        "df['tweet_text'] = df['tweet_text'].apply(lambda x:re.sub('\\W+',' ',x) )"
      ]
    },
    {
      "cell_type": "code",
      "execution_count": 251,
      "metadata": {
        "colab": {
          "base_uri": "https://localhost:8080/"
        },
        "id": "QorZ3ccvSxpE",
        "outputId": "da90fdb5-34e0-4e54-b547-723b60ce73fc"
      },
      "outputs": [
        {
          "output_type": "execute_result",
          "data": {
            "text/plain": [
              "0         iPhone SE 3 gets more expensive in the UK afte...\n",
              "1          Travon I hope it happens before my iPhone 14 ...\n",
              "2         Nah iphone 14 upgrade just not it change my mind \n",
              "3         To the shock of absolutely no one Apple Ready ...\n",
              "4          TMobile TMobileHelp will you be able to order...\n",
              "                                ...                        \n",
              "144240                  iPhone 14 ENTIRE Lineup Early Look \n",
              "144241    iPhone 14 strength will battle weak consumer s...\n",
              "144242     robertrosenfeld My Pixel 4 s battery never th...\n",
              "144243    i don t understand people who buy every new ip...\n",
              "144244    iPhone 14 Series Could Cost 100 Higher Than iP...\n",
              "Name: tweet_text, Length: 144245, dtype: object"
            ]
          },
          "metadata": {},
          "execution_count": 251
        }
      ],
      "source": [
        "df['tweet_text']"
      ]
    },
    {
      "cell_type": "code",
      "execution_count": 252,
      "metadata": {
        "id": "XGREa0kSTZtW"
      },
      "outputs": [],
      "source": [
        "#Storing a copy to avoid data loss in case of any error\n",
        "df_copy = df"
      ]
    },
    {
      "cell_type": "markdown",
      "metadata": {
        "id": "taReJBs5UBnN"
      },
      "source": [
        "Now we are all set to analyze the sentiments. Let's go!"
      ]
    },
    {
      "cell_type": "code",
      "execution_count": 253,
      "metadata": {
        "colab": {
          "base_uri": "https://localhost:8080/"
        },
        "id": "710kDFjjTr9U",
        "outputId": "a177cd1d-b8f5-4bf6-d919-37f28de9ccfd"
      },
      "outputs": [
        {
          "output_type": "stream",
          "name": "stderr",
          "text": [
            "[nltk_data] Downloading package vader_lexicon to /root/nltk_data...\n",
            "[nltk_data]   Package vader_lexicon is already up-to-date!\n"
          ]
        }
      ],
      "source": [
        "#We will analyze the sentiment using VADER\n",
        "import nltk\n",
        "nltk.download('vader_lexicon')\n",
        "from nltk.sentiment.vader import SentimentIntensityAnalyzer\n",
        "sid = SentimentIntensityAnalyzer()"
      ]
    },
    {
      "cell_type": "code",
      "execution_count": 254,
      "metadata": {
        "id": "mrvHGO3qTr56"
      },
      "outputs": [],
      "source": [
        "#We introduce a 'scores' column to store the value of scores generated by VADER\n",
        "df['scores'] = df['tweet_text'].apply(lambda tweet_txt: sid.polarity_scores(tweet_txt))\n"
      ]
    },
    {
      "cell_type": "code",
      "execution_count": 255,
      "metadata": {
        "colab": {
          "base_uri": "https://localhost:8080/",
          "height": 424
        },
        "id": "I0_UmV_GTr3V",
        "outputId": "2401311b-d542-448e-e536-22c81c575bbd"
      },
      "outputs": [
        {
          "output_type": "execute_result",
          "data": {
            "text/plain": [
              "              date                                         tweet_text  \\\n",
              "0       2022-09-08  iPhone SE 3 gets more expensive in the UK afte...   \n",
              "1       2022-09-08   Travon I hope it happens before my iPhone 14 ...   \n",
              "2       2022-09-08  Nah iphone 14 upgrade just not it change my mind    \n",
              "3       2022-09-08  To the shock of absolutely no one Apple Ready ...   \n",
              "4       2022-09-08   TMobile TMobileHelp will you be able to order...   \n",
              "...            ...                                                ...   \n",
              "144240  2022-07-11                iPhone 14 ENTIRE Lineup Early Look    \n",
              "144241  2022-07-11  iPhone 14 strength will battle weak consumer s...   \n",
              "144242  2022-07-11   robertrosenfeld My Pixel 4 s battery never th...   \n",
              "144243  2022-07-11  i don t understand people who buy every new ip...   \n",
              "144244  2022-07-11  iPhone 14 Series Could Cost 100 Higher Than iP...   \n",
              "\n",
              "                                                   scores  \n",
              "0       {'neg': 0.0, 'neu': 1.0, 'pos': 0.0, 'compound...  \n",
              "1       {'neg': 0.0, 'neu': 0.734, 'pos': 0.266, 'comp...  \n",
              "2       {'neg': 0.135, 'neu': 0.865, 'pos': 0.0, 'comp...  \n",
              "3       {'neg': 0.111, 'neu': 0.674, 'pos': 0.216, 'co...  \n",
              "4       {'neg': 0.0, 'neu': 1.0, 'pos': 0.0, 'compound...  \n",
              "...                                                   ...  \n",
              "144240  {'neg': 0.0, 'neu': 1.0, 'pos': 0.0, 'compound...  \n",
              "144241  {'neg': 0.279, 'neu': 0.558, 'pos': 0.162, 'co...  \n",
              "144242  {'neg': 0.038, 'neu': 0.805, 'pos': 0.157, 'co...  \n",
              "144243  {'neg': 0.0, 'neu': 0.918, 'pos': 0.082, 'comp...  \n",
              "144244  {'neg': 0.0, 'neu': 1.0, 'pos': 0.0, 'compound...  \n",
              "\n",
              "[144245 rows x 3 columns]"
            ],
            "text/html": [
              "\n",
              "  <div id=\"df-ff41c4f8-2b81-40f1-be53-0cef951a10b0\">\n",
              "    <div class=\"colab-df-container\">\n",
              "      <div>\n",
              "<style scoped>\n",
              "    .dataframe tbody tr th:only-of-type {\n",
              "        vertical-align: middle;\n",
              "    }\n",
              "\n",
              "    .dataframe tbody tr th {\n",
              "        vertical-align: top;\n",
              "    }\n",
              "\n",
              "    .dataframe thead th {\n",
              "        text-align: right;\n",
              "    }\n",
              "</style>\n",
              "<table border=\"1\" class=\"dataframe\">\n",
              "  <thead>\n",
              "    <tr style=\"text-align: right;\">\n",
              "      <th></th>\n",
              "      <th>date</th>\n",
              "      <th>tweet_text</th>\n",
              "      <th>scores</th>\n",
              "    </tr>\n",
              "  </thead>\n",
              "  <tbody>\n",
              "    <tr>\n",
              "      <th>0</th>\n",
              "      <td>2022-09-08</td>\n",
              "      <td>iPhone SE 3 gets more expensive in the UK afte...</td>\n",
              "      <td>{'neg': 0.0, 'neu': 1.0, 'pos': 0.0, 'compound...</td>\n",
              "    </tr>\n",
              "    <tr>\n",
              "      <th>1</th>\n",
              "      <td>2022-09-08</td>\n",
              "      <td>Travon I hope it happens before my iPhone 14 ...</td>\n",
              "      <td>{'neg': 0.0, 'neu': 0.734, 'pos': 0.266, 'comp...</td>\n",
              "    </tr>\n",
              "    <tr>\n",
              "      <th>2</th>\n",
              "      <td>2022-09-08</td>\n",
              "      <td>Nah iphone 14 upgrade just not it change my mind</td>\n",
              "      <td>{'neg': 0.135, 'neu': 0.865, 'pos': 0.0, 'comp...</td>\n",
              "    </tr>\n",
              "    <tr>\n",
              "      <th>3</th>\n",
              "      <td>2022-09-08</td>\n",
              "      <td>To the shock of absolutely no one Apple Ready ...</td>\n",
              "      <td>{'neg': 0.111, 'neu': 0.674, 'pos': 0.216, 'co...</td>\n",
              "    </tr>\n",
              "    <tr>\n",
              "      <th>4</th>\n",
              "      <td>2022-09-08</td>\n",
              "      <td>TMobile TMobileHelp will you be able to order...</td>\n",
              "      <td>{'neg': 0.0, 'neu': 1.0, 'pos': 0.0, 'compound...</td>\n",
              "    </tr>\n",
              "    <tr>\n",
              "      <th>...</th>\n",
              "      <td>...</td>\n",
              "      <td>...</td>\n",
              "      <td>...</td>\n",
              "    </tr>\n",
              "    <tr>\n",
              "      <th>144240</th>\n",
              "      <td>2022-07-11</td>\n",
              "      <td>iPhone 14 ENTIRE Lineup Early Look</td>\n",
              "      <td>{'neg': 0.0, 'neu': 1.0, 'pos': 0.0, 'compound...</td>\n",
              "    </tr>\n",
              "    <tr>\n",
              "      <th>144241</th>\n",
              "      <td>2022-07-11</td>\n",
              "      <td>iPhone 14 strength will battle weak consumer s...</td>\n",
              "      <td>{'neg': 0.279, 'neu': 0.558, 'pos': 0.162, 'co...</td>\n",
              "    </tr>\n",
              "    <tr>\n",
              "      <th>144242</th>\n",
              "      <td>2022-07-11</td>\n",
              "      <td>robertrosenfeld My Pixel 4 s battery never th...</td>\n",
              "      <td>{'neg': 0.038, 'neu': 0.805, 'pos': 0.157, 'co...</td>\n",
              "    </tr>\n",
              "    <tr>\n",
              "      <th>144243</th>\n",
              "      <td>2022-07-11</td>\n",
              "      <td>i don t understand people who buy every new ip...</td>\n",
              "      <td>{'neg': 0.0, 'neu': 0.918, 'pos': 0.082, 'comp...</td>\n",
              "    </tr>\n",
              "    <tr>\n",
              "      <th>144244</th>\n",
              "      <td>2022-07-11</td>\n",
              "      <td>iPhone 14 Series Could Cost 100 Higher Than iP...</td>\n",
              "      <td>{'neg': 0.0, 'neu': 1.0, 'pos': 0.0, 'compound...</td>\n",
              "    </tr>\n",
              "  </tbody>\n",
              "</table>\n",
              "<p>144245 rows × 3 columns</p>\n",
              "</div>\n",
              "      <button class=\"colab-df-convert\" onclick=\"convertToInteractive('df-ff41c4f8-2b81-40f1-be53-0cef951a10b0')\"\n",
              "              title=\"Convert this dataframe to an interactive table.\"\n",
              "              style=\"display:none;\">\n",
              "        \n",
              "  <svg xmlns=\"http://www.w3.org/2000/svg\" height=\"24px\"viewBox=\"0 0 24 24\"\n",
              "       width=\"24px\">\n",
              "    <path d=\"M0 0h24v24H0V0z\" fill=\"none\"/>\n",
              "    <path d=\"M18.56 5.44l.94 2.06.94-2.06 2.06-.94-2.06-.94-.94-2.06-.94 2.06-2.06.94zm-11 1L8.5 8.5l.94-2.06 2.06-.94-2.06-.94L8.5 2.5l-.94 2.06-2.06.94zm10 10l.94 2.06.94-2.06 2.06-.94-2.06-.94-.94-2.06-.94 2.06-2.06.94z\"/><path d=\"M17.41 7.96l-1.37-1.37c-.4-.4-.92-.59-1.43-.59-.52 0-1.04.2-1.43.59L10.3 9.45l-7.72 7.72c-.78.78-.78 2.05 0 2.83L4 21.41c.39.39.9.59 1.41.59.51 0 1.02-.2 1.41-.59l7.78-7.78 2.81-2.81c.8-.78.8-2.07 0-2.86zM5.41 20L4 18.59l7.72-7.72 1.47 1.35L5.41 20z\"/>\n",
              "  </svg>\n",
              "      </button>\n",
              "      \n",
              "  <style>\n",
              "    .colab-df-container {\n",
              "      display:flex;\n",
              "      flex-wrap:wrap;\n",
              "      gap: 12px;\n",
              "    }\n",
              "\n",
              "    .colab-df-convert {\n",
              "      background-color: #E8F0FE;\n",
              "      border: none;\n",
              "      border-radius: 50%;\n",
              "      cursor: pointer;\n",
              "      display: none;\n",
              "      fill: #1967D2;\n",
              "      height: 32px;\n",
              "      padding: 0 0 0 0;\n",
              "      width: 32px;\n",
              "    }\n",
              "\n",
              "    .colab-df-convert:hover {\n",
              "      background-color: #E2EBFA;\n",
              "      box-shadow: 0px 1px 2px rgba(60, 64, 67, 0.3), 0px 1px 3px 1px rgba(60, 64, 67, 0.15);\n",
              "      fill: #174EA6;\n",
              "    }\n",
              "\n",
              "    [theme=dark] .colab-df-convert {\n",
              "      background-color: #3B4455;\n",
              "      fill: #D2E3FC;\n",
              "    }\n",
              "\n",
              "    [theme=dark] .colab-df-convert:hover {\n",
              "      background-color: #434B5C;\n",
              "      box-shadow: 0px 1px 3px 1px rgba(0, 0, 0, 0.15);\n",
              "      filter: drop-shadow(0px 1px 2px rgba(0, 0, 0, 0.3));\n",
              "      fill: #FFFFFF;\n",
              "    }\n",
              "  </style>\n",
              "\n",
              "      <script>\n",
              "        const buttonEl =\n",
              "          document.querySelector('#df-ff41c4f8-2b81-40f1-be53-0cef951a10b0 button.colab-df-convert');\n",
              "        buttonEl.style.display =\n",
              "          google.colab.kernel.accessAllowed ? 'block' : 'none';\n",
              "\n",
              "        async function convertToInteractive(key) {\n",
              "          const element = document.querySelector('#df-ff41c4f8-2b81-40f1-be53-0cef951a10b0');\n",
              "          const dataTable =\n",
              "            await google.colab.kernel.invokeFunction('convertToInteractive',\n",
              "                                                     [key], {});\n",
              "          if (!dataTable) return;\n",
              "\n",
              "          const docLinkHtml = 'Like what you see? Visit the ' +\n",
              "            '<a target=\"_blank\" href=https://colab.research.google.com/notebooks/data_table.ipynb>data table notebook</a>'\n",
              "            + ' to learn more about interactive tables.';\n",
              "          element.innerHTML = '';\n",
              "          dataTable['output_type'] = 'display_data';\n",
              "          await google.colab.output.renderOutput(dataTable, element);\n",
              "          const docLink = document.createElement('div');\n",
              "          docLink.innerHTML = docLinkHtml;\n",
              "          element.appendChild(docLink);\n",
              "        }\n",
              "      </script>\n",
              "    </div>\n",
              "  </div>\n",
              "  "
            ]
          },
          "metadata": {},
          "execution_count": 255
        }
      ],
      "source": [
        "#Our dataset:\n",
        "df.loc[:,['date','tweet_text','scores']]"
      ]
    },
    {
      "cell_type": "markdown",
      "metadata": {
        "id": "EBPBKOgUVjM5"
      },
      "source": [
        "    The compound score is used to classify the given text as positive, negative or neutral.  \n",
        "     1. If compound > 0 the statement is POSITIVE\n",
        "     2. If compound < 0 the statement is NEGATIVE\n",
        "     3. If compound = 0 the statement is NEUTRAL\n",
        "\n",
        "\n",
        "\n"
      ]
    },
    {
      "cell_type": "code",
      "execution_count": 256,
      "metadata": {
        "id": "2Z2Q9LuhTr09"
      },
      "outputs": [],
      "source": [
        "df['compound'] = df['scores'].apply(lambda score_dict: score_dict['compound'])\n",
        "df['sentiment_type']=''\n",
        "df.loc[df.compound>0,'sentiment_type']='POSITIVE'\n",
        "df.loc[df.compound==0,'sentiment_type']='NEUTRAL'\n",
        "df.loc[df.compound<0,'sentiment_type']='NEGATIVE'"
      ]
    },
    {
      "cell_type": "code",
      "execution_count": 257,
      "metadata": {
        "colab": {
          "base_uri": "https://localhost:8080/",
          "height": 424
        },
        "id": "_n6KwGJsTryH",
        "outputId": "ed5a599a-3980-4715-9ca6-ff2b5d517432"
      },
      "outputs": [
        {
          "output_type": "execute_result",
          "data": {
            "text/plain": [
              "              date                                         tweet_text  \\\n",
              "0       2022-09-08  iPhone SE 3 gets more expensive in the UK afte...   \n",
              "1       2022-09-08   Travon I hope it happens before my iPhone 14 ...   \n",
              "2       2022-09-08  Nah iphone 14 upgrade just not it change my mind    \n",
              "3       2022-09-08  To the shock of absolutely no one Apple Ready ...   \n",
              "4       2022-09-08   TMobile TMobileHelp will you be able to order...   \n",
              "...            ...                                                ...   \n",
              "144240  2022-07-11                iPhone 14 ENTIRE Lineup Early Look    \n",
              "144241  2022-07-11  iPhone 14 strength will battle weak consumer s...   \n",
              "144242  2022-07-11   robertrosenfeld My Pixel 4 s battery never th...   \n",
              "144243  2022-07-11  i don t understand people who buy every new ip...   \n",
              "144244  2022-07-11  iPhone 14 Series Could Cost 100 Higher Than iP...   \n",
              "\n",
              "        compound sentiment_type  \n",
              "0         0.0000        NEUTRAL  \n",
              "1         0.4404       POSITIVE  \n",
              "2        -0.1027       NEGATIVE  \n",
              "3         0.5913       POSITIVE  \n",
              "4         0.0000        NEUTRAL  \n",
              "...          ...            ...  \n",
              "144240    0.0000        NEUTRAL  \n",
              "144241   -0.3182       NEGATIVE  \n",
              "144242    0.7809       POSITIVE  \n",
              "144243    0.3612       POSITIVE  \n",
              "144244    0.0000        NEUTRAL  \n",
              "\n",
              "[144245 rows x 4 columns]"
            ],
            "text/html": [
              "\n",
              "  <div id=\"df-4ab6d6c7-faa1-4765-a88d-e0ac0c6413f9\">\n",
              "    <div class=\"colab-df-container\">\n",
              "      <div>\n",
              "<style scoped>\n",
              "    .dataframe tbody tr th:only-of-type {\n",
              "        vertical-align: middle;\n",
              "    }\n",
              "\n",
              "    .dataframe tbody tr th {\n",
              "        vertical-align: top;\n",
              "    }\n",
              "\n",
              "    .dataframe thead th {\n",
              "        text-align: right;\n",
              "    }\n",
              "</style>\n",
              "<table border=\"1\" class=\"dataframe\">\n",
              "  <thead>\n",
              "    <tr style=\"text-align: right;\">\n",
              "      <th></th>\n",
              "      <th>date</th>\n",
              "      <th>tweet_text</th>\n",
              "      <th>compound</th>\n",
              "      <th>sentiment_type</th>\n",
              "    </tr>\n",
              "  </thead>\n",
              "  <tbody>\n",
              "    <tr>\n",
              "      <th>0</th>\n",
              "      <td>2022-09-08</td>\n",
              "      <td>iPhone SE 3 gets more expensive in the UK afte...</td>\n",
              "      <td>0.0000</td>\n",
              "      <td>NEUTRAL</td>\n",
              "    </tr>\n",
              "    <tr>\n",
              "      <th>1</th>\n",
              "      <td>2022-09-08</td>\n",
              "      <td>Travon I hope it happens before my iPhone 14 ...</td>\n",
              "      <td>0.4404</td>\n",
              "      <td>POSITIVE</td>\n",
              "    </tr>\n",
              "    <tr>\n",
              "      <th>2</th>\n",
              "      <td>2022-09-08</td>\n",
              "      <td>Nah iphone 14 upgrade just not it change my mind</td>\n",
              "      <td>-0.1027</td>\n",
              "      <td>NEGATIVE</td>\n",
              "    </tr>\n",
              "    <tr>\n",
              "      <th>3</th>\n",
              "      <td>2022-09-08</td>\n",
              "      <td>To the shock of absolutely no one Apple Ready ...</td>\n",
              "      <td>0.5913</td>\n",
              "      <td>POSITIVE</td>\n",
              "    </tr>\n",
              "    <tr>\n",
              "      <th>4</th>\n",
              "      <td>2022-09-08</td>\n",
              "      <td>TMobile TMobileHelp will you be able to order...</td>\n",
              "      <td>0.0000</td>\n",
              "      <td>NEUTRAL</td>\n",
              "    </tr>\n",
              "    <tr>\n",
              "      <th>...</th>\n",
              "      <td>...</td>\n",
              "      <td>...</td>\n",
              "      <td>...</td>\n",
              "      <td>...</td>\n",
              "    </tr>\n",
              "    <tr>\n",
              "      <th>144240</th>\n",
              "      <td>2022-07-11</td>\n",
              "      <td>iPhone 14 ENTIRE Lineup Early Look</td>\n",
              "      <td>0.0000</td>\n",
              "      <td>NEUTRAL</td>\n",
              "    </tr>\n",
              "    <tr>\n",
              "      <th>144241</th>\n",
              "      <td>2022-07-11</td>\n",
              "      <td>iPhone 14 strength will battle weak consumer s...</td>\n",
              "      <td>-0.3182</td>\n",
              "      <td>NEGATIVE</td>\n",
              "    </tr>\n",
              "    <tr>\n",
              "      <th>144242</th>\n",
              "      <td>2022-07-11</td>\n",
              "      <td>robertrosenfeld My Pixel 4 s battery never th...</td>\n",
              "      <td>0.7809</td>\n",
              "      <td>POSITIVE</td>\n",
              "    </tr>\n",
              "    <tr>\n",
              "      <th>144243</th>\n",
              "      <td>2022-07-11</td>\n",
              "      <td>i don t understand people who buy every new ip...</td>\n",
              "      <td>0.3612</td>\n",
              "      <td>POSITIVE</td>\n",
              "    </tr>\n",
              "    <tr>\n",
              "      <th>144244</th>\n",
              "      <td>2022-07-11</td>\n",
              "      <td>iPhone 14 Series Could Cost 100 Higher Than iP...</td>\n",
              "      <td>0.0000</td>\n",
              "      <td>NEUTRAL</td>\n",
              "    </tr>\n",
              "  </tbody>\n",
              "</table>\n",
              "<p>144245 rows × 4 columns</p>\n",
              "</div>\n",
              "      <button class=\"colab-df-convert\" onclick=\"convertToInteractive('df-4ab6d6c7-faa1-4765-a88d-e0ac0c6413f9')\"\n",
              "              title=\"Convert this dataframe to an interactive table.\"\n",
              "              style=\"display:none;\">\n",
              "        \n",
              "  <svg xmlns=\"http://www.w3.org/2000/svg\" height=\"24px\"viewBox=\"0 0 24 24\"\n",
              "       width=\"24px\">\n",
              "    <path d=\"M0 0h24v24H0V0z\" fill=\"none\"/>\n",
              "    <path d=\"M18.56 5.44l.94 2.06.94-2.06 2.06-.94-2.06-.94-.94-2.06-.94 2.06-2.06.94zm-11 1L8.5 8.5l.94-2.06 2.06-.94-2.06-.94L8.5 2.5l-.94 2.06-2.06.94zm10 10l.94 2.06.94-2.06 2.06-.94-2.06-.94-.94-2.06-.94 2.06-2.06.94z\"/><path d=\"M17.41 7.96l-1.37-1.37c-.4-.4-.92-.59-1.43-.59-.52 0-1.04.2-1.43.59L10.3 9.45l-7.72 7.72c-.78.78-.78 2.05 0 2.83L4 21.41c.39.39.9.59 1.41.59.51 0 1.02-.2 1.41-.59l7.78-7.78 2.81-2.81c.8-.78.8-2.07 0-2.86zM5.41 20L4 18.59l7.72-7.72 1.47 1.35L5.41 20z\"/>\n",
              "  </svg>\n",
              "      </button>\n",
              "      \n",
              "  <style>\n",
              "    .colab-df-container {\n",
              "      display:flex;\n",
              "      flex-wrap:wrap;\n",
              "      gap: 12px;\n",
              "    }\n",
              "\n",
              "    .colab-df-convert {\n",
              "      background-color: #E8F0FE;\n",
              "      border: none;\n",
              "      border-radius: 50%;\n",
              "      cursor: pointer;\n",
              "      display: none;\n",
              "      fill: #1967D2;\n",
              "      height: 32px;\n",
              "      padding: 0 0 0 0;\n",
              "      width: 32px;\n",
              "    }\n",
              "\n",
              "    .colab-df-convert:hover {\n",
              "      background-color: #E2EBFA;\n",
              "      box-shadow: 0px 1px 2px rgba(60, 64, 67, 0.3), 0px 1px 3px 1px rgba(60, 64, 67, 0.15);\n",
              "      fill: #174EA6;\n",
              "    }\n",
              "\n",
              "    [theme=dark] .colab-df-convert {\n",
              "      background-color: #3B4455;\n",
              "      fill: #D2E3FC;\n",
              "    }\n",
              "\n",
              "    [theme=dark] .colab-df-convert:hover {\n",
              "      background-color: #434B5C;\n",
              "      box-shadow: 0px 1px 3px 1px rgba(0, 0, 0, 0.15);\n",
              "      filter: drop-shadow(0px 1px 2px rgba(0, 0, 0, 0.3));\n",
              "      fill: #FFFFFF;\n",
              "    }\n",
              "  </style>\n",
              "\n",
              "      <script>\n",
              "        const buttonEl =\n",
              "          document.querySelector('#df-4ab6d6c7-faa1-4765-a88d-e0ac0c6413f9 button.colab-df-convert');\n",
              "        buttonEl.style.display =\n",
              "          google.colab.kernel.accessAllowed ? 'block' : 'none';\n",
              "\n",
              "        async function convertToInteractive(key) {\n",
              "          const element = document.querySelector('#df-4ab6d6c7-faa1-4765-a88d-e0ac0c6413f9');\n",
              "          const dataTable =\n",
              "            await google.colab.kernel.invokeFunction('convertToInteractive',\n",
              "                                                     [key], {});\n",
              "          if (!dataTable) return;\n",
              "\n",
              "          const docLinkHtml = 'Like what you see? Visit the ' +\n",
              "            '<a target=\"_blank\" href=https://colab.research.google.com/notebooks/data_table.ipynb>data table notebook</a>'\n",
              "            + ' to learn more about interactive tables.';\n",
              "          element.innerHTML = '';\n",
              "          dataTable['output_type'] = 'display_data';\n",
              "          await google.colab.output.renderOutput(dataTable, element);\n",
              "          const docLink = document.createElement('div');\n",
              "          docLink.innerHTML = docLinkHtml;\n",
              "          element.appendChild(docLink);\n",
              "        }\n",
              "      </script>\n",
              "    </div>\n",
              "  </div>\n",
              "  "
            ]
          },
          "metadata": {},
          "execution_count": 257
        }
      ],
      "source": [
        "df.loc[:,['date','tweet_text','compound','sentiment_type']]"
      ]
    },
    {
      "cell_type": "markdown",
      "metadata": {
        "id": "Apzqxj97cMO2"
      },
      "source": [
        "Now our dataset is ready to be asked questions from and give insights!"
      ]
    },
    {
      "cell_type": "code",
      "execution_count": 258,
      "metadata": {
        "colab": {
          "base_uri": "https://localhost:8080/",
          "height": 652
        },
        "id": "kGjXDut05uI7",
        "outputId": "3a6051f3-d140-46da-9125-b8ac0d781e23"
      },
      "outputs": [
        {
          "output_type": "execute_result",
          "data": {
            "text/plain": [
              "         date      time  verified               source  \\\n",
              "0  2022-09-08  22:49:29     False              Chatbot   \n",
              "1  2022-09-08  22:49:27     False   Twitter for iPhone   \n",
              "2  2022-09-08  22:49:16     False  Twitter for Android   \n",
              "3  2022-09-08  22:49:09     False   Twitter for iPhone   \n",
              "4  2022-09-08  22:49:09     False   Twitter for iPhone   \n",
              "\n",
              "                                          tweet_text  followers_count  \\\n",
              "0  iPhone SE 3 gets more expensive in the UK afte...               10   \n",
              "1   Travon I hope it happens before my iPhone 14 ...             1642   \n",
              "2  Nah iphone 14 upgrade just not it change my mind                77   \n",
              "3  To the shock of absolutely no one Apple Ready ...              549   \n",
              "4   TMobile TMobileHelp will you be able to order...               48   \n",
              "\n",
              "   following_count  tweet_like_count  tweet_retweet_count  tweet_reply_count  \\\n",
              "0               28                 0                    0                  0   \n",
              "1             1444                 0                    0                  0   \n",
              "2               87                 0                    0                  0   \n",
              "3              717                 0                    0                  0   \n",
              "4              153                 0                    0                  0   \n",
              "\n",
              "                                              scores  compound sentiment_type  \n",
              "0  {'neg': 0.0, 'neu': 1.0, 'pos': 0.0, 'compound...    0.0000        NEUTRAL  \n",
              "1  {'neg': 0.0, 'neu': 0.734, 'pos': 0.266, 'comp...    0.4404       POSITIVE  \n",
              "2  {'neg': 0.135, 'neu': 0.865, 'pos': 0.0, 'comp...   -0.1027       NEGATIVE  \n",
              "3  {'neg': 0.111, 'neu': 0.674, 'pos': 0.216, 'co...    0.5913       POSITIVE  \n",
              "4  {'neg': 0.0, 'neu': 1.0, 'pos': 0.0, 'compound...    0.0000        NEUTRAL  "
            ],
            "text/html": [
              "\n",
              "  <div id=\"df-90becfe1-19a8-425d-9a1f-93b8dd618b6c\">\n",
              "    <div class=\"colab-df-container\">\n",
              "      <div>\n",
              "<style scoped>\n",
              "    .dataframe tbody tr th:only-of-type {\n",
              "        vertical-align: middle;\n",
              "    }\n",
              "\n",
              "    .dataframe tbody tr th {\n",
              "        vertical-align: top;\n",
              "    }\n",
              "\n",
              "    .dataframe thead th {\n",
              "        text-align: right;\n",
              "    }\n",
              "</style>\n",
              "<table border=\"1\" class=\"dataframe\">\n",
              "  <thead>\n",
              "    <tr style=\"text-align: right;\">\n",
              "      <th></th>\n",
              "      <th>date</th>\n",
              "      <th>time</th>\n",
              "      <th>verified</th>\n",
              "      <th>source</th>\n",
              "      <th>tweet_text</th>\n",
              "      <th>followers_count</th>\n",
              "      <th>following_count</th>\n",
              "      <th>tweet_like_count</th>\n",
              "      <th>tweet_retweet_count</th>\n",
              "      <th>tweet_reply_count</th>\n",
              "      <th>scores</th>\n",
              "      <th>compound</th>\n",
              "      <th>sentiment_type</th>\n",
              "    </tr>\n",
              "  </thead>\n",
              "  <tbody>\n",
              "    <tr>\n",
              "      <th>0</th>\n",
              "      <td>2022-09-08</td>\n",
              "      <td>22:49:29</td>\n",
              "      <td>False</td>\n",
              "      <td>Chatbot</td>\n",
              "      <td>iPhone SE 3 gets more expensive in the UK afte...</td>\n",
              "      <td>10</td>\n",
              "      <td>28</td>\n",
              "      <td>0</td>\n",
              "      <td>0</td>\n",
              "      <td>0</td>\n",
              "      <td>{'neg': 0.0, 'neu': 1.0, 'pos': 0.0, 'compound...</td>\n",
              "      <td>0.0000</td>\n",
              "      <td>NEUTRAL</td>\n",
              "    </tr>\n",
              "    <tr>\n",
              "      <th>1</th>\n",
              "      <td>2022-09-08</td>\n",
              "      <td>22:49:27</td>\n",
              "      <td>False</td>\n",
              "      <td>Twitter for iPhone</td>\n",
              "      <td>Travon I hope it happens before my iPhone 14 ...</td>\n",
              "      <td>1642</td>\n",
              "      <td>1444</td>\n",
              "      <td>0</td>\n",
              "      <td>0</td>\n",
              "      <td>0</td>\n",
              "      <td>{'neg': 0.0, 'neu': 0.734, 'pos': 0.266, 'comp...</td>\n",
              "      <td>0.4404</td>\n",
              "      <td>POSITIVE</td>\n",
              "    </tr>\n",
              "    <tr>\n",
              "      <th>2</th>\n",
              "      <td>2022-09-08</td>\n",
              "      <td>22:49:16</td>\n",
              "      <td>False</td>\n",
              "      <td>Twitter for Android</td>\n",
              "      <td>Nah iphone 14 upgrade just not it change my mind</td>\n",
              "      <td>77</td>\n",
              "      <td>87</td>\n",
              "      <td>0</td>\n",
              "      <td>0</td>\n",
              "      <td>0</td>\n",
              "      <td>{'neg': 0.135, 'neu': 0.865, 'pos': 0.0, 'comp...</td>\n",
              "      <td>-0.1027</td>\n",
              "      <td>NEGATIVE</td>\n",
              "    </tr>\n",
              "    <tr>\n",
              "      <th>3</th>\n",
              "      <td>2022-09-08</td>\n",
              "      <td>22:49:09</td>\n",
              "      <td>False</td>\n",
              "      <td>Twitter for iPhone</td>\n",
              "      <td>To the shock of absolutely no one Apple Ready ...</td>\n",
              "      <td>549</td>\n",
              "      <td>717</td>\n",
              "      <td>0</td>\n",
              "      <td>0</td>\n",
              "      <td>0</td>\n",
              "      <td>{'neg': 0.111, 'neu': 0.674, 'pos': 0.216, 'co...</td>\n",
              "      <td>0.5913</td>\n",
              "      <td>POSITIVE</td>\n",
              "    </tr>\n",
              "    <tr>\n",
              "      <th>4</th>\n",
              "      <td>2022-09-08</td>\n",
              "      <td>22:49:09</td>\n",
              "      <td>False</td>\n",
              "      <td>Twitter for iPhone</td>\n",
              "      <td>TMobile TMobileHelp will you be able to order...</td>\n",
              "      <td>48</td>\n",
              "      <td>153</td>\n",
              "      <td>0</td>\n",
              "      <td>0</td>\n",
              "      <td>0</td>\n",
              "      <td>{'neg': 0.0, 'neu': 1.0, 'pos': 0.0, 'compound...</td>\n",
              "      <td>0.0000</td>\n",
              "      <td>NEUTRAL</td>\n",
              "    </tr>\n",
              "  </tbody>\n",
              "</table>\n",
              "</div>\n",
              "      <button class=\"colab-df-convert\" onclick=\"convertToInteractive('df-90becfe1-19a8-425d-9a1f-93b8dd618b6c')\"\n",
              "              title=\"Convert this dataframe to an interactive table.\"\n",
              "              style=\"display:none;\">\n",
              "        \n",
              "  <svg xmlns=\"http://www.w3.org/2000/svg\" height=\"24px\"viewBox=\"0 0 24 24\"\n",
              "       width=\"24px\">\n",
              "    <path d=\"M0 0h24v24H0V0z\" fill=\"none\"/>\n",
              "    <path d=\"M18.56 5.44l.94 2.06.94-2.06 2.06-.94-2.06-.94-.94-2.06-.94 2.06-2.06.94zm-11 1L8.5 8.5l.94-2.06 2.06-.94-2.06-.94L8.5 2.5l-.94 2.06-2.06.94zm10 10l.94 2.06.94-2.06 2.06-.94-2.06-.94-.94-2.06-.94 2.06-2.06.94z\"/><path d=\"M17.41 7.96l-1.37-1.37c-.4-.4-.92-.59-1.43-.59-.52 0-1.04.2-1.43.59L10.3 9.45l-7.72 7.72c-.78.78-.78 2.05 0 2.83L4 21.41c.39.39.9.59 1.41.59.51 0 1.02-.2 1.41-.59l7.78-7.78 2.81-2.81c.8-.78.8-2.07 0-2.86zM5.41 20L4 18.59l7.72-7.72 1.47 1.35L5.41 20z\"/>\n",
              "  </svg>\n",
              "      </button>\n",
              "      \n",
              "  <style>\n",
              "    .colab-df-container {\n",
              "      display:flex;\n",
              "      flex-wrap:wrap;\n",
              "      gap: 12px;\n",
              "    }\n",
              "\n",
              "    .colab-df-convert {\n",
              "      background-color: #E8F0FE;\n",
              "      border: none;\n",
              "      border-radius: 50%;\n",
              "      cursor: pointer;\n",
              "      display: none;\n",
              "      fill: #1967D2;\n",
              "      height: 32px;\n",
              "      padding: 0 0 0 0;\n",
              "      width: 32px;\n",
              "    }\n",
              "\n",
              "    .colab-df-convert:hover {\n",
              "      background-color: #E2EBFA;\n",
              "      box-shadow: 0px 1px 2px rgba(60, 64, 67, 0.3), 0px 1px 3px 1px rgba(60, 64, 67, 0.15);\n",
              "      fill: #174EA6;\n",
              "    }\n",
              "\n",
              "    [theme=dark] .colab-df-convert {\n",
              "      background-color: #3B4455;\n",
              "      fill: #D2E3FC;\n",
              "    }\n",
              "\n",
              "    [theme=dark] .colab-df-convert:hover {\n",
              "      background-color: #434B5C;\n",
              "      box-shadow: 0px 1px 3px 1px rgba(0, 0, 0, 0.15);\n",
              "      filter: drop-shadow(0px 1px 2px rgba(0, 0, 0, 0.3));\n",
              "      fill: #FFFFFF;\n",
              "    }\n",
              "  </style>\n",
              "\n",
              "      <script>\n",
              "        const buttonEl =\n",
              "          document.querySelector('#df-90becfe1-19a8-425d-9a1f-93b8dd618b6c button.colab-df-convert');\n",
              "        buttonEl.style.display =\n",
              "          google.colab.kernel.accessAllowed ? 'block' : 'none';\n",
              "\n",
              "        async function convertToInteractive(key) {\n",
              "          const element = document.querySelector('#df-90becfe1-19a8-425d-9a1f-93b8dd618b6c');\n",
              "          const dataTable =\n",
              "            await google.colab.kernel.invokeFunction('convertToInteractive',\n",
              "                                                     [key], {});\n",
              "          if (!dataTable) return;\n",
              "\n",
              "          const docLinkHtml = 'Like what you see? Visit the ' +\n",
              "            '<a target=\"_blank\" href=https://colab.research.google.com/notebooks/data_table.ipynb>data table notebook</a>'\n",
              "            + ' to learn more about interactive tables.';\n",
              "          element.innerHTML = '';\n",
              "          dataTable['output_type'] = 'display_data';\n",
              "          await google.colab.output.renderOutput(dataTable, element);\n",
              "          const docLink = document.createElement('div');\n",
              "          docLink.innerHTML = docLinkHtml;\n",
              "          element.appendChild(docLink);\n",
              "        }\n",
              "      </script>\n",
              "    </div>\n",
              "  </div>\n",
              "  "
            ]
          },
          "metadata": {},
          "execution_count": 258
        }
      ],
      "source": [
        "df.head()"
      ]
    },
    {
      "cell_type": "code",
      "execution_count": 259,
      "metadata": {
        "id": "8WitSuTnZ2uc"
      },
      "outputs": [],
      "source": [
        "import matplotlib.pyplot as plt\n",
        "import seaborn as sns\n"
      ]
    },
    {
      "cell_type": "markdown",
      "metadata": {
        "id": "O4adhP6v3yWo"
      },
      "source": [
        "Q.1. What was the reaction of majority population on iPhone 14?"
      ]
    },
    {
      "cell_type": "code",
      "execution_count": 260,
      "metadata": {
        "colab": {
          "base_uri": "https://localhost:8080/",
          "height": 337
        },
        "id": "Qv-M3OI7Z2oE",
        "outputId": "33f752b4-bf6f-468a-cda6-5e96b8ebb5dd"
      },
      "outputs": [
        {
          "output_type": "display_data",
          "data": {
            "text/plain": [
              "<Figure size 432x288 with 1 Axes>"
            ],
            "image/png": "[encoded data removed]"
          },
          "metadata": {}
        }
      ],
      "source": [
        "fig, ax = plt.subplots(figsize=(6, 4))\n",
        "sns.countplot(data=df, x=\"sentiment_type\")\n",
        "plt.xticks(rotation=45)\n",
        "plt.title(\"Sentiment vs. Count for iPhone-14\")\n",
        "plt.ylabel('Tweet count')\n",
        "plt.xlabel('Sentiment')\n",
        "plt.show()"
      ]
    },
    {
      "cell_type": "markdown",
      "metadata": {
        "id": "QtJ9_Bav8Uny"
      },
      "source": [
        "    Ans.1 -> Majority population had neutral views about iPhone-14. \n",
        "    Around 47000 people had positive reaction towards iPhone-14 and 23000 had a negative reaction."
      ]
    },
    {
      "cell_type": "markdown",
      "metadata": {
        "id": "o0vpZJuV8303"
      },
      "source": [
        "Q.2. Compare the reactions of iPhone users to that of Android users on iPhone-14."
      ]
    },
    {
      "cell_type": "code",
      "execution_count": 261,
      "metadata": {
        "colab": {
          "base_uri": "https://localhost:8080/",
          "height": 445
        },
        "id": "goCrCiR54CWS",
        "outputId": "190d0658-0db6-4573-867d-0f57cf22fce7"
      },
      "outputs": [
        {
          "output_type": "display_data",
          "data": {
            "text/plain": [
              "<Figure size 576x432 with 1 Axes>"
            ],
            "image/png": "[encoded data removed]"
          },
          "metadata": {}
        }
      ],
      "source": [
        "fig, ax = plt.subplots(figsize=(8, 6))\n",
        "data_iPhone_Android = df[(df['source'] == \"Twitter for iPhone\") | (df['source'] ==\"Twitter for Android\")]\n",
        "sns.countplot(data=data_iPhone_Android, x=\"sentiment_type\",hue=\"source\" )\n",
        "plt.xticks(rotation=45)\n",
        "plt.title(\"Sentiment of iPhone users and Android users\")\n",
        "plt.ylabel('Tweet count')\n",
        "plt.xlabel('Sentiment')\n",
        "plt.show()"
      ]
    },
    {
      "cell_type": "markdown",
      "metadata": {
        "id": "RJCl6dyp_aB2"
      },
      "source": [
        "    Ans.2 -> It is clearly visible that iPhone users have tweeted more in every category of sentiment than Android users\n",
        "    in the respective category.\n",
        "    But the difference between the relative opinion of iPhone user is fairly large than Android users.\n",
        "    It can be seen that most of the iPhone users either support iPhone-14 or have a neutral opinion about it."
      ]
    },
    {
      "cell_type": "markdown",
      "metadata": {
        "id": "1FYwp90lDN8n"
      },
      "source": [
        "Q.3. What is the distribution of different devices used for Tweets?"
      ]
    },
    {
      "cell_type": "code",
      "execution_count": 262,
      "metadata": {
        "colab": {
          "base_uri": "https://localhost:8080/",
          "height": 502
        },
        "id": "dtbb6DMgDNc3",
        "outputId": "40c27125-5a2e-4c70-94fe-0f7b2c7f7d1e"
      },
      "outputs": [
        {
          "output_type": "display_data",
          "data": {
            "text/plain": [
              "<Figure size 576x432 with 1 Axes>"
            ],
            "image/png": "[encoded data removed]"
          },
          "metadata": {}
        }
      ],
      "source": [
        "fig, ax = plt.subplots(figsize=(8, 6))\n",
        "sns.countplot(data=df,x=\"source\")\n",
        "plt.xticks(rotation=90)\n",
        "plt.title(\"Distribution of different devices used for Tweets\")\n",
        "plt.ylabel('Tweet count')\n",
        "plt.xlabel('Device Type')\n",
        "plt.show()"
      ]
    },
    {
      "cell_type": "markdown",
      "metadata": {
        "id": "1rnbzDctD3M3"
      },
      "source": [
        "    Ans.3-> Around 30000 people used third party apps or chatbots to present their views.\n",
        "    It is interesting that most of the tweets were made by iPhone users.\n",
        "    People do not use LinkedIn or Instagram as a source to tweet something."
      ]
    },
    {
      "cell_type": "markdown",
      "metadata": {
        "id": "4eOH2EtxAdpr"
      },
      "source": [
        "Q.4. What is the distribution of reaction when a user is a verified user?\n",
        "\n",
        "Note:- Verified user in Twitter means someone with a blue-tick. Generally celebrities and influencers have blue-ticks in their accounts."
      ]
    },
    {
      "cell_type": "code",
      "execution_count": 263,
      "metadata": {
        "colab": {
          "base_uri": "https://localhost:8080/",
          "height": 337
        },
        "id": "C4b-1Itm4CS3",
        "outputId": "bc9b4b0d-a092-4553-e390-860e27f85934"
      },
      "outputs": [
        {
          "output_type": "display_data",
          "data": {
            "text/plain": [
              "<Figure size 432x288 with 1 Axes>"
            ],
            "image/png": "[encoded data removed]"
          },
          "metadata": {}
        }
      ],
      "source": [
        "sns.countplot(data=df[df['verified']==True],x=\"sentiment_type\")\n",
        "plt.xticks(rotation=45)\n",
        "plt.title(\"Sentiment of Verified Twitter users\")\n",
        "plt.ylabel('Tweet count')\n",
        "plt.xlabel('Sentiment')\n",
        "plt.show()"
      ]
    },
    {
      "cell_type": "markdown",
      "metadata": {
        "id": "M48KftonBPLP"
      },
      "source": [
        "    Ans.4 -> In general we don't find any influencer without an Apple product but there were around 800 users\n",
        "    who would still like to look for other options."
      ]
    },
    {
      "cell_type": "markdown",
      "metadata": {
        "id": "z8uRHK5BEfXa"
      },
      "source": [
        "Q.5. What percentage of users with blue tick used Chatbot for tweet?\n"
      ]
    },
    {
      "cell_type": "code",
      "execution_count": 264,
      "metadata": {
        "id": "ZqyyQIMk93H2"
      },
      "outputs": [],
      "source": [
        "verified_chatbot_percent = (df[df['verified']==True]['source'].value_counts()['Chatbot'] / len(df.index))*100"
      ]
    },
    {
      "cell_type": "code",
      "execution_count": 265,
      "metadata": {
        "colab": {
          "base_uri": "https://localhost:8080/"
        },
        "id": "65WAnMdz4CPr",
        "outputId": "1804bf8b-9c16-4c2e-8bc8-6a05e166e374"
      },
      "outputs": [
        {
          "output_type": "stream",
          "name": "stdout",
          "text": [
            "Percentage of verified users who used chatbot for tweeting: 2.85%\n"
          ]
        }
      ],
      "source": [
        "print(f'Percentage of verified users who used chatbot for tweeting: {verified_chatbot_percent:.2f}%')"
      ]
    },
    {
      "cell_type": "markdown",
      "source": [
        "Let's plot some time-series data!"
      ],
      "metadata": {
        "id": "2sqf5fcrgTkW"
      }
    },
    {
      "cell_type": "code",
      "execution_count": 266,
      "metadata": {
        "id": "J-F_0m4n4CNG"
      },
      "outputs": [],
      "source": [
        "#We will create a new dataframe whose entries will be the frequency of a particular tweet on the respective day.\n",
        "\n",
        "dates = np.sort(df['date'].unique()) #Storing the date values for reference\n",
        "new_df = pd.DataFrame(dates,columns=['date'])"
      ]
    },
    {
      "cell_type": "code",
      "source": [
        "#In the next step we will add three columns and set the date column as index\n",
        "new_df['negative'] = 0\n",
        "new_df['neutral'] = 0\n",
        "new_df['positive'] = 0"
      ],
      "metadata": {
        "id": "12MhXxUAkG6v"
      },
      "execution_count": 267,
      "outputs": []
    },
    {
      "cell_type": "code",
      "source": [
        "new_df.set_index('date',inplace=True)"
      ],
      "metadata": {
        "id": "0hywhUeIkIBV"
      },
      "execution_count": 268,
      "outputs": []
    },
    {
      "cell_type": "code",
      "source": [
        "new_df.head() #Now our new dataframe is ready to be populated."
      ],
      "metadata": {
        "colab": {
          "base_uri": "https://localhost:8080/",
          "height": 238
        },
        "id": "Ueq8WEOSlEIn",
        "outputId": "589de1b9-fe3f-4c3a-aa19-932511f2106d"
      },
      "execution_count": 269,
      "outputs": [
        {
          "output_type": "execute_result",
          "data": {
            "text/plain": [
              "            negative  neutral  positive\n",
              "date                                   \n",
              "2022-07-11         0        0         0\n",
              "2022-07-12         0        0         0\n",
              "2022-07-13         0        0         0\n",
              "2022-07-14         0        0         0\n",
              "2022-07-15         0        0         0"
            ],
            "text/html": [
              "\n",
              "  <div id=\"df-0fb0dff3-a1d0-42ef-8ae3-5145d05adaf7\">\n",
              "    <div class=\"colab-df-container\">\n",
              "      <div>\n",
              "<style scoped>\n",
              "    .dataframe tbody tr th:only-of-type {\n",
              "        vertical-align: middle;\n",
              "    }\n",
              "\n",
              "    .dataframe tbody tr th {\n",
              "        vertical-align: top;\n",
              "    }\n",
              "\n",
              "    .dataframe thead th {\n",
              "        text-align: right;\n",
              "    }\n",
              "</style>\n",
              "<table border=\"1\" class=\"dataframe\">\n",
              "  <thead>\n",
              "    <tr style=\"text-align: right;\">\n",
              "      <th></th>\n",
              "      <th>negative</th>\n",
              "      <th>neutral</th>\n",
              "      <th>positive</th>\n",
              "    </tr>\n",
              "    <tr>\n",
              "      <th>date</th>\n",
              "      <th></th>\n",
              "      <th></th>\n",
              "      <th></th>\n",
              "    </tr>\n",
              "  </thead>\n",
              "  <tbody>\n",
              "    <tr>\n",
              "      <th>2022-07-11</th>\n",
              "      <td>0</td>\n",
              "      <td>0</td>\n",
              "      <td>0</td>\n",
              "    </tr>\n",
              "    <tr>\n",
              "      <th>2022-07-12</th>\n",
              "      <td>0</td>\n",
              "      <td>0</td>\n",
              "      <td>0</td>\n",
              "    </tr>\n",
              "    <tr>\n",
              "      <th>2022-07-13</th>\n",
              "      <td>0</td>\n",
              "      <td>0</td>\n",
              "      <td>0</td>\n",
              "    </tr>\n",
              "    <tr>\n",
              "      <th>2022-07-14</th>\n",
              "      <td>0</td>\n",
              "      <td>0</td>\n",
              "      <td>0</td>\n",
              "    </tr>\n",
              "    <tr>\n",
              "      <th>2022-07-15</th>\n",
              "      <td>0</td>\n",
              "      <td>0</td>\n",
              "      <td>0</td>\n",
              "    </tr>\n",
              "  </tbody>\n",
              "</table>\n",
              "</div>\n",
              "      <button class=\"colab-df-convert\" onclick=\"convertToInteractive('df-0fb0dff3-a1d0-42ef-8ae3-5145d05adaf7')\"\n",
              "              title=\"Convert this dataframe to an interactive table.\"\n",
              "              style=\"display:none;\">\n",
              "        \n",
              "  <svg xmlns=\"http://www.w3.org/2000/svg\" height=\"24px\"viewBox=\"0 0 24 24\"\n",
              "       width=\"24px\">\n",
              "    <path d=\"M0 0h24v24H0V0z\" fill=\"none\"/>\n",
              "    <path d=\"M18.56 5.44l.94 2.06.94-2.06 2.06-.94-2.06-.94-.94-2.06-.94 2.06-2.06.94zm-11 1L8.5 8.5l.94-2.06 2.06-.94-2.06-.94L8.5 2.5l-.94 2.06-2.06.94zm10 10l.94 2.06.94-2.06 2.06-.94-2.06-.94-.94-2.06-.94 2.06-2.06.94z\"/><path d=\"M17.41 7.96l-1.37-1.37c-.4-.4-.92-.59-1.43-.59-.52 0-1.04.2-1.43.59L10.3 9.45l-7.72 7.72c-.78.78-.78 2.05 0 2.83L4 21.41c.39.39.9.59 1.41.59.51 0 1.02-.2 1.41-.59l7.78-7.78 2.81-2.81c.8-.78.8-2.07 0-2.86zM5.41 20L4 18.59l7.72-7.72 1.47 1.35L5.41 20z\"/>\n",
              "  </svg>\n",
              "      </button>\n",
              "      \n",
              "  <style>\n",
              "    .colab-df-container {\n",
              "      display:flex;\n",
              "      flex-wrap:wrap;\n",
              "      gap: 12px;\n",
              "    }\n",
              "\n",
              "    .colab-df-convert {\n",
              "      background-color: #E8F0FE;\n",
              "      border: none;\n",
              "      border-radius: 50%;\n",
              "      cursor: pointer;\n",
              "      display: none;\n",
              "      fill: #1967D2;\n",
              "      height: 32px;\n",
              "      padding: 0 0 0 0;\n",
              "      width: 32px;\n",
              "    }\n",
              "\n",
              "    .colab-df-convert:hover {\n",
              "      background-color: #E2EBFA;\n",
              "      box-shadow: 0px 1px 2px rgba(60, 64, 67, 0.3), 0px 1px 3px 1px rgba(60, 64, 67, 0.15);\n",
              "      fill: #174EA6;\n",
              "    }\n",
              "\n",
              "    [theme=dark] .colab-df-convert {\n",
              "      background-color: #3B4455;\n",
              "      fill: #D2E3FC;\n",
              "    }\n",
              "\n",
              "    [theme=dark] .colab-df-convert:hover {\n",
              "      background-color: #434B5C;\n",
              "      box-shadow: 0px 1px 3px 1px rgba(0, 0, 0, 0.15);\n",
              "      filter: drop-shadow(0px 1px 2px rgba(0, 0, 0, 0.3));\n",
              "      fill: #FFFFFF;\n",
              "    }\n",
              "  </style>\n",
              "\n",
              "      <script>\n",
              "        const buttonEl =\n",
              "          document.querySelector('#df-0fb0dff3-a1d0-42ef-8ae3-5145d05adaf7 button.colab-df-convert');\n",
              "        buttonEl.style.display =\n",
              "          google.colab.kernel.accessAllowed ? 'block' : 'none';\n",
              "\n",
              "        async function convertToInteractive(key) {\n",
              "          const element = document.querySelector('#df-0fb0dff3-a1d0-42ef-8ae3-5145d05adaf7');\n",
              "          const dataTable =\n",
              "            await google.colab.kernel.invokeFunction('convertToInteractive',\n",
              "                                                     [key], {});\n",
              "          if (!dataTable) return;\n",
              "\n",
              "          const docLinkHtml = 'Like what you see? Visit the ' +\n",
              "            '<a target=\"_blank\" href=https://colab.research.google.com/notebooks/data_table.ipynb>data table notebook</a>'\n",
              "            + ' to learn more about interactive tables.';\n",
              "          element.innerHTML = '';\n",
              "          dataTable['output_type'] = 'display_data';\n",
              "          await google.colab.output.renderOutput(dataTable, element);\n",
              "          const docLink = document.createElement('div');\n",
              "          docLink.innerHTML = docLinkHtml;\n",
              "          element.appendChild(docLink);\n",
              "        }\n",
              "      </script>\n",
              "    </div>\n",
              "  </div>\n",
              "  "
            ]
          },
          "metadata": {},
          "execution_count": 269
        }
      ]
    },
    {
      "cell_type": "markdown",
      "source": [
        "    We use the values in the 'dates' list to refer to the particular date in the original dataframe.\n",
        "    And extract frequencies from that."
      ],
      "metadata": {
        "id": "dZ8O4X_aldgH"
      }
    },
    {
      "cell_type": "code",
      "source": [
        "for d in dates:\n",
        "  new_df.at[d,'positive'] = len(df.loc[df['date'] == d].loc[df['sentiment_type'] == 'POSITIVE'].index)\n",
        "  new_df.at[d,'negative'] = len(df.loc[df['date'] == d].loc[df['sentiment_type'] == 'NEGATIVE'].index)\n",
        "  new_df.at[d,'neutral'] = len(df.loc[df['date'] == d].loc[df['sentiment_type'] == 'NEUTRAL'].index)\n"
      ],
      "metadata": {
        "id": "dHf5p_kclKX9"
      },
      "execution_count": 270,
      "outputs": []
    },
    {
      "cell_type": "code",
      "source": [
        "new_df.head()"
      ],
      "metadata": {
        "colab": {
          "base_uri": "https://localhost:8080/",
          "height": 238
        },
        "id": "_e0ebaKElZcV",
        "outputId": "c62de3b6-3939-4103-c397-e29a6e5d4612"
      },
      "execution_count": 271,
      "outputs": [
        {
          "output_type": "execute_result",
          "data": {
            "text/plain": [
              "            negative  neutral  positive\n",
              "date                                   \n",
              "2022-07-11        42       81        51\n",
              "2022-07-12        95      187       109\n",
              "2022-07-13       108      176        81\n",
              "2022-07-14       168      319       193\n",
              "2022-07-15       132      239       188"
            ],
            "text/html": [
              "\n",
              "  <div id=\"df-315e1bc3-ef26-469f-9a30-1972a280f99c\">\n",
              "    <div class=\"colab-df-container\">\n",
              "      <div>\n",
              "<style scoped>\n",
              "    .dataframe tbody tr th:only-of-type {\n",
              "        vertical-align: middle;\n",
              "    }\n",
              "\n",
              "    .dataframe tbody tr th {\n",
              "        vertical-align: top;\n",
              "    }\n",
              "\n",
              "    .dataframe thead th {\n",
              "        text-align: right;\n",
              "    }\n",
              "</style>\n",
              "<table border=\"1\" class=\"dataframe\">\n",
              "  <thead>\n",
              "    <tr style=\"text-align: right;\">\n",
              "      <th></th>\n",
              "      <th>negative</th>\n",
              "      <th>neutral</th>\n",
              "      <th>positive</th>\n",
              "    </tr>\n",
              "    <tr>\n",
              "      <th>date</th>\n",
              "      <th></th>\n",
              "      <th></th>\n",
              "      <th></th>\n",
              "    </tr>\n",
              "  </thead>\n",
              "  <tbody>\n",
              "    <tr>\n",
              "      <th>2022-07-11</th>\n",
              "      <td>42</td>\n",
              "      <td>81</td>\n",
              "      <td>51</td>\n",
              "    </tr>\n",
              "    <tr>\n",
              "      <th>2022-07-12</th>\n",
              "      <td>95</td>\n",
              "      <td>187</td>\n",
              "      <td>109</td>\n",
              "    </tr>\n",
              "    <tr>\n",
              "      <th>2022-07-13</th>\n",
              "      <td>108</td>\n",
              "      <td>176</td>\n",
              "      <td>81</td>\n",
              "    </tr>\n",
              "    <tr>\n",
              "      <th>2022-07-14</th>\n",
              "      <td>168</td>\n",
              "      <td>319</td>\n",
              "      <td>193</td>\n",
              "    </tr>\n",
              "    <tr>\n",
              "      <th>2022-07-15</th>\n",
              "      <td>132</td>\n",
              "      <td>239</td>\n",
              "      <td>188</td>\n",
              "    </tr>\n",
              "  </tbody>\n",
              "</table>\n",
              "</div>\n",
              "      <button class=\"colab-df-convert\" onclick=\"convertToInteractive('df-315e1bc3-ef26-469f-9a30-1972a280f99c')\"\n",
              "              title=\"Convert this dataframe to an interactive table.\"\n",
              "              style=\"display:none;\">\n",
              "        \n",
              "  <svg xmlns=\"http://www.w3.org/2000/svg\" height=\"24px\"viewBox=\"0 0 24 24\"\n",
              "       width=\"24px\">\n",
              "    <path d=\"M0 0h24v24H0V0z\" fill=\"none\"/>\n",
              "    <path d=\"M18.56 5.44l.94 2.06.94-2.06 2.06-.94-2.06-.94-.94-2.06-.94 2.06-2.06.94zm-11 1L8.5 8.5l.94-2.06 2.06-.94-2.06-.94L8.5 2.5l-.94 2.06-2.06.94zm10 10l.94 2.06.94-2.06 2.06-.94-2.06-.94-.94-2.06-.94 2.06-2.06.94z\"/><path d=\"M17.41 7.96l-1.37-1.37c-.4-.4-.92-.59-1.43-.59-.52 0-1.04.2-1.43.59L10.3 9.45l-7.72 7.72c-.78.78-.78 2.05 0 2.83L4 21.41c.39.39.9.59 1.41.59.51 0 1.02-.2 1.41-.59l7.78-7.78 2.81-2.81c.8-.78.8-2.07 0-2.86zM5.41 20L4 18.59l7.72-7.72 1.47 1.35L5.41 20z\"/>\n",
              "  </svg>\n",
              "      </button>\n",
              "      \n",
              "  <style>\n",
              "    .colab-df-container {\n",
              "      display:flex;\n",
              "      flex-wrap:wrap;\n",
              "      gap: 12px;\n",
              "    }\n",
              "\n",
              "    .colab-df-convert {\n",
              "      background-color: #E8F0FE;\n",
              "      border: none;\n",
              "      border-radius: 50%;\n",
              "      cursor: pointer;\n",
              "      display: none;\n",
              "      fill: #1967D2;\n",
              "      height: 32px;\n",
              "      padding: 0 0 0 0;\n",
              "      width: 32px;\n",
              "    }\n",
              "\n",
              "    .colab-df-convert:hover {\n",
              "      background-color: #E2EBFA;\n",
              "      box-shadow: 0px 1px 2px rgba(60, 64, 67, 0.3), 0px 1px 3px 1px rgba(60, 64, 67, 0.15);\n",
              "      fill: #174EA6;\n",
              "    }\n",
              "\n",
              "    [theme=dark] .colab-df-convert {\n",
              "      background-color: #3B4455;\n",
              "      fill: #D2E3FC;\n",
              "    }\n",
              "\n",
              "    [theme=dark] .colab-df-convert:hover {\n",
              "      background-color: #434B5C;\n",
              "      box-shadow: 0px 1px 3px 1px rgba(0, 0, 0, 0.15);\n",
              "      filter: drop-shadow(0px 1px 2px rgba(0, 0, 0, 0.3));\n",
              "      fill: #FFFFFF;\n",
              "    }\n",
              "  </style>\n",
              "\n",
              "      <script>\n",
              "        const buttonEl =\n",
              "          document.querySelector('#df-315e1bc3-ef26-469f-9a30-1972a280f99c button.colab-df-convert');\n",
              "        buttonEl.style.display =\n",
              "          google.colab.kernel.accessAllowed ? 'block' : 'none';\n",
              "\n",
              "        async function convertToInteractive(key) {\n",
              "          const element = document.querySelector('#df-315e1bc3-ef26-469f-9a30-1972a280f99c');\n",
              "          const dataTable =\n",
              "            await google.colab.kernel.invokeFunction('convertToInteractive',\n",
              "                                                     [key], {});\n",
              "          if (!dataTable) return;\n",
              "\n",
              "          const docLinkHtml = 'Like what you see? Visit the ' +\n",
              "            '<a target=\"_blank\" href=https://colab.research.google.com/notebooks/data_table.ipynb>data table notebook</a>'\n",
              "            + ' to learn more about interactive tables.';\n",
              "          element.innerHTML = '';\n",
              "          dataTable['output_type'] = 'display_data';\n",
              "          await google.colab.output.renderOutput(dataTable, element);\n",
              "          const docLink = document.createElement('div');\n",
              "          docLink.innerHTML = docLinkHtml;\n",
              "          element.appendChild(docLink);\n",
              "        }\n",
              "      </script>\n",
              "    </div>\n",
              "  </div>\n",
              "  "
            ]
          },
          "metadata": {},
          "execution_count": 271
        }
      ]
    },
    {
      "cell_type": "markdown",
      "source": [
        "Now our dataset is populated. Let's address a couple of more questions!"
      ],
      "metadata": {
        "id": "wR8Dh-Yjl94o"
      }
    },
    {
      "cell_type": "markdown",
      "source": [
        "Q.6. Plot the trend line of frequency of tweets and discuss the following questions:\n",
        "\n",
        "    i. What was the peak time for tweets about iPhone-14?\n",
        "    ii. When was the no. of negative tweets greater than no. of positive tweet?\n",
        "    iii. Which tweet trend prevailed through-out the 2 month time period?\n",
        "  "
      ],
      "metadata": {
        "id": "gO7VihD_mu3e"
      }
    },
    {
      "cell_type": "code",
      "source": [
        "fig, ax = plt.subplots(figsize=(14, 8))\n",
        "sns.set_style(\"darkgrid\", {\"grid.color\": \".6\", \"grid.linestyle\": \":\"})\n",
        "sns.set_context(\"notebook\", rc={\"lines.linewidth\": 2})\n",
        "sns.lineplot(data=new_df)\n",
        "plt.grid(True,color='w')\n",
        "plt.xticks(rotation=90)\n",
        "plt.ylabel('Tweet Frequency')\n",
        "plt.xlabel('Dates ->')\n",
        "plt.title('Trendline of Tweets')\n",
        "plt.show()"
      ],
      "metadata": {
        "colab": {
          "base_uri": "https://localhost:8080/",
          "height": 572
        },
        "id": "_eZNJ530lZY8",
        "outputId": "c0109ade-343d-4396-b5c9-5cb4336329cc"
      },
      "execution_count": 273,
      "outputs": [
        {
          "output_type": "display_data",
          "data": {
            "text/plain": [
              "<Figure size 1008x576 with 1 Axes>"
            ],
            "image/png": "[encoded data removed]"
          },
          "metadata": {}
        }
      ]
    },
    {
      "cell_type": "markdown",
      "source": [
        "    Ans. 6.i. The peak time for tweets about iPhone-14 was around September 7,2022 because\n",
        "    that was the official release date of iPhone-14."
      ],
      "metadata": {
        "id": "i6l2iy7_sKZn"
      }
    },
    {
      "cell_type": "markdown",
      "source": [
        "    Ans. 6.ii. The negative tweets do not really overtook the positive and neutral tweets but\n",
        "    around the end of July 2022 negative tweets were in equal amount to that of positive and neutral tweets."
      ],
      "metadata": {
        "id": "CxOq0Bq0sb45"
      }
    },
    {
      "cell_type": "markdown",
      "source": [
        "    Ans. 6.iii. It is clearly visible that the neutral tweets prevailed. It might be possible that people\n",
        "    liked the features but not the pricing of iPhone-14."
      ],
      "metadata": {
        "id": "EYWg_bpUs8uh"
      }
    },
    {
      "cell_type": "markdown",
      "source": [
        "## Thank you!\n",
        "\n",
        "Feel free to connect me on LinkedIn: https://www.linkedin.com/in/hindesh-akash/"
      ],
      "metadata": {
        "id": "Blrs-klAvX4o"
      }
    }
  ],
  "metadata": {
    "colab": {
      "collapsed_sections": [],
      "provenance": [],
      "mount_file_id": "1FegK06V-wXGrIugumFzHnLdLZJuhgrut",
      "authorship_tag": "ABX9TyPnbVX3CTd7HpsvMp4jfPta",
      "include_colab_link": true
    },
    "kernelspec": {
      "display_name": "Python 3",
      "name": "python3"
    },
    "language_info": {
      "name": "python"
    }
  },
  "nbformat": 4,
  "nbformat_minor": 0
}